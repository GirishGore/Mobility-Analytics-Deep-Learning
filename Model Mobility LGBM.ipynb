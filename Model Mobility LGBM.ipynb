{
 "cells": [
  {
   "cell_type": "code",
   "execution_count": 1,
   "metadata": {},
   "outputs": [
    {
     "name": "stdout",
     "output_type": "stream",
     "text": [
      "(131662, 34) (87395, 34)\n"
     ]
    }
   ],
   "source": [
    "import pandas as pd\n",
    "import numpy as np\n",
    "\n",
    "from sklearn.model_selection import GridSearchCV\n",
    "from sklearn.model_selection import StratifiedKFold\n",
    "\n",
    "train = pd.read_csv('train_final.csv')\n",
    "test = pd.read_csv('test_final.csv')\n",
    "print(\"Shapes of the input files\",train.shape,test.shape)"
   ]
  },
  {
   "cell_type": "code",
   "execution_count": 3,
   "metadata": {},
   "outputs": [
    {
     "name": "stdout",
     "output_type": "stream",
     "text": [
      "(131662, 33) (131662,) (87395, 33)\n"
     ]
    }
   ],
   "source": [
    "X = train.drop('Surge_Pricing_Type',axis=1)\n",
    "y = train.Surge_Pricing_Type\n",
    "y = y -1 ## To adjust classes for gbm\n",
    "X_final = test.drop('Surge_Pricing_Type',axis=1)\n",
    "print(X.shape,y.shape,X_final.shape)"
   ]
  },
  {
   "cell_type": "code",
   "execution_count": 8,
   "metadata": {},
   "outputs": [
    {
     "name": "stdout",
     "output_type": "stream",
     "text": [
      "Best parameters found by grid search are: {'bagging_fraction': 0.9, 'bagging_freq': 5, 'feature_fraction': 0.7, 'learning_rate': 0.005, 'max_depth': 13, 'n_estimators': 1300, 'num_leaves': 130}\n"
     ]
    }
   ],
   "source": [
    "import lightgbm as lgb\n",
    "estimator = lgb.LGBMClassifier(objective= \"multiclass\",num_class= 3, verbosity=2)\n",
    "\n",
    "param_grid = {\n",
    "\n",
    "    'learning_rate': [0.001, 0.005],\n",
    "    'n_estimators': [1300,1100],\n",
    "    \"num_leaves\" : [90,130],\n",
    "    \"max_depth\": [11,13],\n",
    "    \"bagging_fraction\" : [0.9],  # subsample\n",
    "    \"feature_fraction\" : [0.9,0.7],  # colsample_bytree\n",
    "    \"bagging_freq\" : [5],        # subsample_freq\n",
    "}\n",
    "\n",
    "gbm = GridSearchCV(estimator, param_grid, cv=StratifiedKFold(n_splits=10, shuffle=True))\n",
    "gbm.fit(X, y)\n",
    "\n",
    "print('Best parameters found by grid search are:', gbm.best_params_)"
   ]
  },
  {
   "cell_type": "code",
   "execution_count": 9,
   "metadata": {},
   "outputs": [
    {
     "name": "stdout",
     "output_type": "stream",
     "text": [
      "(array([1., 2., 3.]), array([14341, 44790, 28264], dtype=int64))\n"
     ]
    },
    {
     "name": "stderr",
     "output_type": "stream",
     "text": [
      "c:\\program files\\python36\\lib\\site-packages\\sklearn\\externals\\joblib\\__init__.py:15: FutureWarning: sklearn.externals.joblib is deprecated in 0.21 and will be removed in 0.23. Please import this functionality directly from joblib, which can be installed with: pip install joblib. If this warning is raised when loading pickled models, you may need to re-serialize those models with scikit-learn 0.21+.\n",
      "  warnings.warn(msg, category=FutureWarning)\n"
     ]
    },
    {
     "name": "stdout",
     "output_type": "stream",
     "text": [
      "Saving the best estimates\n"
     ]
    }
   ],
   "source": [
    "preds = gbm.predict(X_final)\n",
    "preds = preds + 1\n",
    "print(np.unique(preds, return_counts=True))\n",
    "df_submit = pd.read_csv('sample_submission.csv')\n",
    "df_submit['Surge_Pricing_Type'] = preds\n",
    "df_submit.to_csv('GBMBest.csv',index=False , header=True)\n",
    "from sklearn.externals import joblib\n",
    "joblib.dump(gbm.best_estimator_, 'gbm.pkl')\n",
    "\n",
    "print(\"Saving the best estimates\")"
   ]
  },
  {
   "cell_type": "code",
   "execution_count": 18,
   "metadata": {},
   "outputs": [
    {
     "name": "stdout",
     "output_type": "stream",
     "text": [
      "Best parameters set found on development set:\n",
      "{'bagging_fraction': 0.9, 'bagging_freq': 5, 'feature_fraction': 0.7, 'learning_rate': 0.005, 'max_depth': 13, 'n_estimators': 1300, 'num_leaves': 130}\n",
      "0.683 (+/-0.008) for {'bagging_fraction': 0.9, 'bagging_freq': 5, 'feature_fraction': 0.9, 'learning_rate': 0.001, 'max_depth': 11, 'n_estimators': 1300, 'num_leaves': 90}\n",
      "\n",
      "0.684 (+/-0.008) for {'bagging_fraction': 0.9, 'bagging_freq': 5, 'feature_fraction': 0.9, 'learning_rate': 0.001, 'max_depth': 11, 'n_estimators': 1300, 'num_leaves': 130}\n",
      "\n",
      "0.682 (+/-0.009) for {'bagging_fraction': 0.9, 'bagging_freq': 5, 'feature_fraction': 0.9, 'learning_rate': 0.001, 'max_depth': 11, 'n_estimators': 1100, 'num_leaves': 90}\n",
      "\n",
      "0.683 (+/-0.008) for {'bagging_fraction': 0.9, 'bagging_freq': 5, 'feature_fraction': 0.9, 'learning_rate': 0.001, 'max_depth': 11, 'n_estimators': 1100, 'num_leaves': 130}\n",
      "\n",
      "0.683 (+/-0.008) for {'bagging_fraction': 0.9, 'bagging_freq': 5, 'feature_fraction': 0.9, 'learning_rate': 0.001, 'max_depth': 13, 'n_estimators': 1300, 'num_leaves': 90}\n",
      "\n",
      "0.684 (+/-0.008) for {'bagging_fraction': 0.9, 'bagging_freq': 5, 'feature_fraction': 0.9, 'learning_rate': 0.001, 'max_depth': 13, 'n_estimators': 1300, 'num_leaves': 130}\n",
      "\n",
      "0.682 (+/-0.009) for {'bagging_fraction': 0.9, 'bagging_freq': 5, 'feature_fraction': 0.9, 'learning_rate': 0.001, 'max_depth': 13, 'n_estimators': 1100, 'num_leaves': 90}\n",
      "\n",
      "0.683 (+/-0.008) for {'bagging_fraction': 0.9, 'bagging_freq': 5, 'feature_fraction': 0.9, 'learning_rate': 0.001, 'max_depth': 13, 'n_estimators': 1100, 'num_leaves': 130}\n",
      "\n",
      "0.689 (+/-0.009) for {'bagging_fraction': 0.9, 'bagging_freq': 5, 'feature_fraction': 0.9, 'learning_rate': 0.005, 'max_depth': 11, 'n_estimators': 1300, 'num_leaves': 90}\n",
      "\n",
      "0.689 (+/-0.010) for {'bagging_fraction': 0.9, 'bagging_freq': 5, 'feature_fraction': 0.9, 'learning_rate': 0.005, 'max_depth': 11, 'n_estimators': 1300, 'num_leaves': 130}\n",
      "\n",
      "0.688 (+/-0.010) for {'bagging_fraction': 0.9, 'bagging_freq': 5, 'feature_fraction': 0.9, 'learning_rate': 0.005, 'max_depth': 11, 'n_estimators': 1100, 'num_leaves': 90}\n",
      "\n",
      "0.688 (+/-0.009) for {'bagging_fraction': 0.9, 'bagging_freq': 5, 'feature_fraction': 0.9, 'learning_rate': 0.005, 'max_depth': 11, 'n_estimators': 1100, 'num_leaves': 130}\n",
      "\n",
      "0.689 (+/-0.009) for {'bagging_fraction': 0.9, 'bagging_freq': 5, 'feature_fraction': 0.9, 'learning_rate': 0.005, 'max_depth': 13, 'n_estimators': 1300, 'num_leaves': 90}\n",
      "\n",
      "0.689 (+/-0.009) for {'bagging_fraction': 0.9, 'bagging_freq': 5, 'feature_fraction': 0.9, 'learning_rate': 0.005, 'max_depth': 13, 'n_estimators': 1300, 'num_leaves': 130}\n",
      "\n",
      "0.688 (+/-0.010) for {'bagging_fraction': 0.9, 'bagging_freq': 5, 'feature_fraction': 0.9, 'learning_rate': 0.005, 'max_depth': 13, 'n_estimators': 1100, 'num_leaves': 90}\n",
      "\n",
      "0.688 (+/-0.009) for {'bagging_fraction': 0.9, 'bagging_freq': 5, 'feature_fraction': 0.9, 'learning_rate': 0.005, 'max_depth': 13, 'n_estimators': 1100, 'num_leaves': 130}\n",
      "\n",
      "0.684 (+/-0.008) for {'bagging_fraction': 0.9, 'bagging_freq': 5, 'feature_fraction': 0.7, 'learning_rate': 0.001, 'max_depth': 11, 'n_estimators': 1300, 'num_leaves': 90}\n",
      "\n",
      "0.684 (+/-0.008) for {'bagging_fraction': 0.9, 'bagging_freq': 5, 'feature_fraction': 0.7, 'learning_rate': 0.001, 'max_depth': 11, 'n_estimators': 1300, 'num_leaves': 130}\n",
      "\n",
      "0.682 (+/-0.008) for {'bagging_fraction': 0.9, 'bagging_freq': 5, 'feature_fraction': 0.7, 'learning_rate': 0.001, 'max_depth': 11, 'n_estimators': 1100, 'num_leaves': 90}\n",
      "\n",
      "0.683 (+/-0.008) for {'bagging_fraction': 0.9, 'bagging_freq': 5, 'feature_fraction': 0.7, 'learning_rate': 0.001, 'max_depth': 11, 'n_estimators': 1100, 'num_leaves': 130}\n",
      "\n",
      "0.684 (+/-0.008) for {'bagging_fraction': 0.9, 'bagging_freq': 5, 'feature_fraction': 0.7, 'learning_rate': 0.001, 'max_depth': 13, 'n_estimators': 1300, 'num_leaves': 90}\n",
      "\n",
      "0.684 (+/-0.008) for {'bagging_fraction': 0.9, 'bagging_freq': 5, 'feature_fraction': 0.7, 'learning_rate': 0.001, 'max_depth': 13, 'n_estimators': 1300, 'num_leaves': 130}\n",
      "\n",
      "0.682 (+/-0.008) for {'bagging_fraction': 0.9, 'bagging_freq': 5, 'feature_fraction': 0.7, 'learning_rate': 0.001, 'max_depth': 13, 'n_estimators': 1100, 'num_leaves': 90}\n",
      "\n",
      "0.683 (+/-0.008) for {'bagging_fraction': 0.9, 'bagging_freq': 5, 'feature_fraction': 0.7, 'learning_rate': 0.001, 'max_depth': 13, 'n_estimators': 1100, 'num_leaves': 130}\n",
      "\n",
      "0.689 (+/-0.010) for {'bagging_fraction': 0.9, 'bagging_freq': 5, 'feature_fraction': 0.7, 'learning_rate': 0.005, 'max_depth': 11, 'n_estimators': 1300, 'num_leaves': 90}\n",
      "\n",
      "0.689 (+/-0.009) for {'bagging_fraction': 0.9, 'bagging_freq': 5, 'feature_fraction': 0.7, 'learning_rate': 0.005, 'max_depth': 11, 'n_estimators': 1300, 'num_leaves': 130}\n",
      "\n",
      "0.689 (+/-0.009) for {'bagging_fraction': 0.9, 'bagging_freq': 5, 'feature_fraction': 0.7, 'learning_rate': 0.005, 'max_depth': 11, 'n_estimators': 1100, 'num_leaves': 90}\n",
      "\n",
      "0.689 (+/-0.009) for {'bagging_fraction': 0.9, 'bagging_freq': 5, 'feature_fraction': 0.7, 'learning_rate': 0.005, 'max_depth': 11, 'n_estimators': 1100, 'num_leaves': 130}\n",
      "\n",
      "0.689 (+/-0.009) for {'bagging_fraction': 0.9, 'bagging_freq': 5, 'feature_fraction': 0.7, 'learning_rate': 0.005, 'max_depth': 13, 'n_estimators': 1300, 'num_leaves': 90}\n",
      "\n",
      "0.689 (+/-0.009) for {'bagging_fraction': 0.9, 'bagging_freq': 5, 'feature_fraction': 0.7, 'learning_rate': 0.005, 'max_depth': 13, 'n_estimators': 1300, 'num_leaves': 130}\n",
      "\n",
      "0.689 (+/-0.009) for {'bagging_fraction': 0.9, 'bagging_freq': 5, 'feature_fraction': 0.7, 'learning_rate': 0.005, 'max_depth': 13, 'n_estimators': 1100, 'num_leaves': 90}\n",
      "\n",
      "0.689 (+/-0.009) for {'bagging_fraction': 0.9, 'bagging_freq': 5, 'feature_fraction': 0.7, 'learning_rate': 0.005, 'max_depth': 13, 'n_estimators': 1100, 'num_leaves': 130}\n",
      "\n",
      "Detailed classification report:\n",
      "              precision    recall  f1-score   support\n",
      "\n",
      "         0.0       0.71      0.57      0.63     27214\n",
      "         1.0       0.67      0.81      0.74     56728\n",
      "         2.0       0.76      0.67      0.71     47720\n",
      "\n",
      "    accuracy                           0.71    131662\n",
      "   macro avg       0.72      0.68      0.69    131662\n",
      "weighted avg       0.71      0.71      0.71    131662\n",
      "\n"
     ]
    }
   ],
   "source": [
    "## Getting best params from GridSearchCV\n",
    "from sklearn.metrics import classification_report\n",
    "\n",
    "print(\"Best parameters set found on development set:\")\n",
    "print(gbm.best_params_)\n",
    "means = gbm.cv_results_['mean_test_score']\n",
    "stds = gbm.cv_results_['std_test_score']\n",
    "\n",
    "for mean, std, params in zip(means, stds, gbm.cv_results_['params']):\n",
    "    print(\"%0.3f (+/-%0.03f) for %r\" % (mean, std * 2, params))\n",
    "    print()\n",
    "\n",
    "print(\"Detailed classification report:\")\n",
    "y_true, y_pred = y, gbm.predict(X)\n",
    "print(classification_report(y_true, y_pred))"
   ]
  },
  {
   "cell_type": "code",
   "execution_count": 17,
   "metadata": {},
   "outputs": [
    {
     "data": {
      "image/png": "[encoded data removed]",
      "text/plain": [
       "<Figure size 1440x720 with 1 Axes>"
      ]
     },
     "metadata": {
      "needs_background": "light"
     },
     "output_type": "display_data"
    },
    {
     "data": {
      "text/plain": [
       "<Figure size 432x288 with 0 Axes>"
      ]
     },
     "metadata": {},
     "output_type": "display_data"
    }
   ],
   "source": [
    "import matplotlib.pyplot as plt\n",
    "import seaborn as sns\n",
    "import warnings\n",
    "warnings.simplefilter(action='ignore', category=FutureWarning)\n",
    "\n",
    "# sorted(zip(clf.feature_importances_, X.columns), reverse=True)\n",
    "feature_imp = pd.DataFrame(sorted(zip(gbm.best_estimator_.feature_importances_,X.columns)), columns=['Value','Feature'])\n",
    "\n",
    "plt.figure(figsize=(20, 10))\n",
    "sns.barplot(x=\"Value\", y=\"Feature\", data=feature_imp.sort_values(by=\"Value\", ascending=False))\n",
    "plt.title('LightGBM Features (avg over folds)')\n",
    "plt.tight_layout()\n",
    "plt.show()\n",
    "plt.savefig('lgbm_importances-01.png')"
   ]
  },
  {
   "cell_type": "code",
   "execution_count": null,
   "metadata": {},
   "outputs": [],
   "source": []
  }
 ],
 "metadata": {
  "kernelspec": {
   "display_name": "Python 3",
   "language": "python",
   "name": "python3"
  },
  "language_info": {
   "codemirror_mode": {
    "name": "ipython",
    "version": 3
   },
   "file_extension": ".py",
   "mimetype": "text/x-python",
   "name": "python",
   "nbconvert_exporter": "python",
   "pygments_lexer": "ipython3",
   "version": "3.6.3"
  }
 },
 "nbformat": 4,
 "nbformat_minor": 2
}
