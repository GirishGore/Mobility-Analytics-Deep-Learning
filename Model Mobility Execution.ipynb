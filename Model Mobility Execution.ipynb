{
 "cells": [
  {
   "cell_type": "code",
   "execution_count": 1,
   "metadata": {},
   "outputs": [
    {
     "name": "stdout",
     "output_type": "stream",
     "text": [
      "(131662, 34) (87395, 34)\n"
     ]
    }
   ],
   "source": [
    "import pandas as pd\n",
    "train = pd.read_csv('train_final.csv')\n",
    "test = pd.read_csv('test_final.csv')\n",
    "print(train.shape,test.shape)"
   ]
  },
  {
   "cell_type": "code",
   "execution_count": 2,
   "metadata": {},
   "outputs": [
    {
     "data": {
      "text/html": [
       "<div>\n",
       "<style scoped>\n",
       "    .dataframe tbody tr th:only-of-type {\n",
       "        vertical-align: middle;\n",
       "    }\n",
       "\n",
       "    .dataframe tbody tr th {\n",
       "        vertical-align: top;\n",
       "    }\n",
       "\n",
       "    .dataframe thead th {\n",
       "        text-align: right;\n",
       "    }\n",
       "</style>\n",
       "<table border=\"1\" class=\"dataframe\">\n",
       "  <thead>\n",
       "    <tr style=\"text-align: right;\">\n",
       "      <th></th>\n",
       "      <th>Customer_Since_Months</th>\n",
       "      <th>Life_Style_Index</th>\n",
       "      <th>Var1</th>\n",
       "    </tr>\n",
       "  </thead>\n",
       "  <tbody>\n",
       "    <tr>\n",
       "      <th>count</th>\n",
       "      <td>131662.000000</td>\n",
       "      <td>131662.000000</td>\n",
       "      <td>131662.000000</td>\n",
       "    </tr>\n",
       "    <tr>\n",
       "      <th>mean</th>\n",
       "      <td>0.601591</td>\n",
       "      <td>0.417258</td>\n",
       "      <td>0.189695</td>\n",
       "    </tr>\n",
       "    <tr>\n",
       "      <th>std</th>\n",
       "      <td>0.354441</td>\n",
       "      <td>0.058405</td>\n",
       "      <td>0.082265</td>\n",
       "    </tr>\n",
       "    <tr>\n",
       "      <th>min</th>\n",
       "      <td>0.000000</td>\n",
       "      <td>0.078299</td>\n",
       "      <td>0.000000</td>\n",
       "    </tr>\n",
       "    <tr>\n",
       "      <th>25%</th>\n",
       "      <td>0.300000</td>\n",
       "      <td>0.385157</td>\n",
       "      <td>0.188889</td>\n",
       "    </tr>\n",
       "    <tr>\n",
       "      <th>50%</th>\n",
       "      <td>0.600000</td>\n",
       "      <td>0.417384</td>\n",
       "      <td>0.189422</td>\n",
       "    </tr>\n",
       "    <tr>\n",
       "      <th>75%</th>\n",
       "      <td>1.000000</td>\n",
       "      <td>0.448369</td>\n",
       "      <td>0.189422</td>\n",
       "    </tr>\n",
       "    <tr>\n",
       "      <th>max</th>\n",
       "      <td>1.000000</td>\n",
       "      <td>1.000000</td>\n",
       "      <td>1.000000</td>\n",
       "    </tr>\n",
       "  </tbody>\n",
       "</table>\n",
       "</div>"
      ],
      "text/plain": [
       "       Customer_Since_Months  Life_Style_Index           Var1\n",
       "count          131662.000000     131662.000000  131662.000000\n",
       "mean                0.601591          0.417258       0.189695\n",
       "std                 0.354441          0.058405       0.082265\n",
       "min                 0.000000          0.078299       0.000000\n",
       "25%                 0.300000          0.385157       0.188889\n",
       "50%                 0.600000          0.417384       0.189422\n",
       "75%                 1.000000          0.448369       0.189422\n",
       "max                 1.000000          1.000000       1.000000"
      ]
     },
     "execution_count": 2,
     "metadata": {},
     "output_type": "execute_result"
    }
   ],
   "source": [
    "train[['Customer_Since_Months','Life_Style_Index','Var1']].describe()"
   ]
  },
  {
   "cell_type": "code",
   "execution_count": 3,
   "metadata": {},
   "outputs": [
    {
     "name": "stdout",
     "output_type": "stream",
     "text": [
      "(131662, 33) (131662,) (87395, 33) (87395,)\n"
     ]
    }
   ],
   "source": [
    "X = train.drop('Surge_Pricing_Type',axis=1)\n",
    "y = train.Surge_Pricing_Type\n",
    "X_test = test.drop('Surge_Pricing_Type',axis=1)\n",
    "y_test = test.Surge_Pricing_Type\n",
    "print(X.shape,y.shape,X_test.shape,y_test.shape)"
   ]
  },
  {
   "cell_type": "code",
   "execution_count": 4,
   "metadata": {},
   "outputs": [
    {
     "name": "stdout",
     "output_type": "stream",
     "text": [
      "Model Ready\n"
     ]
    }
   ],
   "source": [
    "import xgboost as xgb\n",
    "xgb_model = xgb.XGBClassifier()\n",
    "\n",
    "#brute force scan for all parameters, here are the tricks\n",
    "#usually max_depth is 6,7,8\n",
    "#learning rate is around 0.05, but small changes may make big diff\n",
    "#tuning min_child_weight subsample colsample_bytree can have \n",
    "#much fun of fighting against overfit \n",
    "#n_estimators is how many round of boosting\n",
    "#finally, ensemble xgboost with multiple seeds may reduce variance\n",
    "parameters = {'nthread':[4], #when use hyperthread, xgboost may become slower\n",
    "              'objective':['multi:softmax'],\n",
    "              'learning_rate': [0.005], #so called `eta` value\n",
    "              'max_depth': [7],\n",
    "              'min_child_weight': [7,9],\n",
    "              'silent': [1],\n",
    "              'subsample': [0.7],\n",
    "              'colsample_bytree': [0.7],\n",
    "              'n_estimators': [1100], #number of trees, change it to 1000 for better results\n",
    "              'missing':[-999],\n",
    "              'seed': [91,13255]}\n",
    "\n",
    "print(\"Model Ready\")"
   ]
  },
  {
   "cell_type": "code",
   "execution_count": 5,
   "metadata": {},
   "outputs": [
    {
     "name": "stdout",
     "output_type": "stream",
     "text": [
      "Fitting 5 folds for each of 4 candidates, totalling 20 fits\n"
     ]
    },
    {
     "name": "stderr",
     "output_type": "stream",
     "text": [
      "[Parallel(n_jobs=5)]: Using backend LokyBackend with 5 concurrent workers.\n",
      "[Parallel(n_jobs=5)]: Done  20 out of  20 | elapsed: 57.6min finished\n"
     ]
    },
    {
     "data": {
      "text/plain": [
       "GridSearchCV(cv=StratifiedKFold(n_splits=5, random_state=None, shuffle=True),\n",
       "             error_score=nan,\n",
       "             estimator=XGBClassifier(base_score=None, booster=None,\n",
       "                                     colsample_bylevel=None,\n",
       "                                     colsample_bynode=None,\n",
       "                                     colsample_bytree=None, gamma=None,\n",
       "                                     gpu_id=None, importance_type='gain',\n",
       "                                     interaction_constraints=None,\n",
       "                                     learning_rate=None, max_delta_step=None,\n",
       "                                     max_depth=None, min_child_...\n",
       "             iid='deprecated', n_jobs=5,\n",
       "             param_grid={'colsample_bytree': [0.7], 'learning_rate': [0.005],\n",
       "                         'max_depth': [7], 'min_child_weight': [7, 9],\n",
       "                         'missing': [-999], 'n_estimators': [1100],\n",
       "                         'nthread': [4], 'objective': ['multi:softmax'],\n",
       "                         'seed': [91, 13255], 'silent': [1],\n",
       "                         'subsample': [0.7]},\n",
       "             pre_dispatch='2*n_jobs', refit=True, return_train_score=False,\n",
       "             scoring='accuracy', verbose=2)"
      ]
     },
     "execution_count": 5,
     "metadata": {},
     "output_type": "execute_result"
    }
   ],
   "source": [
    "from sklearn.model_selection import GridSearchCV\n",
    "from sklearn.model_selection import StratifiedKFold\n",
    "\n",
    "clf = GridSearchCV(xgb_model, parameters, n_jobs=5, \n",
    "                   cv=StratifiedKFold(n_splits=5, shuffle=True), \n",
    "                   scoring='accuracy',\n",
    "                   verbose=2, refit=True)\n",
    "\n",
    "clf.fit(X, y)"
   ]
  },
  {
   "cell_type": "code",
   "execution_count": 6,
   "metadata": {},
   "outputs": [],
   "source": [
    "preds = clf.predict(X_test)\n",
    "df_submit = pd.read_csv('sample_submission.csv')\n",
    "df_submit['Surge_Pricing_Type'] = preds\n",
    "df_submit.to_csv('BasicTree.csv',index=False , header=True)"
   ]
  },
  {
   "cell_type": "code",
   "execution_count": 7,
   "metadata": {},
   "outputs": [
    {
     "name": "stdout",
     "output_type": "stream",
     "text": [
      "Best parameters set found on development set:\n",
      "{'colsample_bytree': 0.7, 'learning_rate': 0.005, 'max_depth': 7, 'min_child_weight': 7, 'missing': -999, 'n_estimators': 1100, 'nthread': 4, 'objective': 'multi:softmax', 'seed': 13255, 'silent': 1, 'subsample': 0.7}\n",
      "0.687 (+/-0.004) for {'colsample_bytree': 0.7, 'learning_rate': 0.005, 'max_depth': 7, 'min_child_weight': 7, 'missing': -999, 'n_estimators': 1100, 'nthread': 4, 'objective': 'multi:softmax', 'seed': 91, 'silent': 1, 'subsample': 0.7}\n",
      "\n",
      "0.688 (+/-0.004) for {'colsample_bytree': 0.7, 'learning_rate': 0.005, 'max_depth': 7, 'min_child_weight': 7, 'missing': -999, 'n_estimators': 1100, 'nthread': 4, 'objective': 'multi:softmax', 'seed': 13255, 'silent': 1, 'subsample': 0.7}\n",
      "\n",
      "0.687 (+/-0.004) for {'colsample_bytree': 0.7, 'learning_rate': 0.005, 'max_depth': 7, 'min_child_weight': 9, 'missing': -999, 'n_estimators': 1100, 'nthread': 4, 'objective': 'multi:softmax', 'seed': 91, 'silent': 1, 'subsample': 0.7}\n",
      "\n",
      "0.688 (+/-0.005) for {'colsample_bytree': 0.7, 'learning_rate': 0.005, 'max_depth': 7, 'min_child_weight': 9, 'missing': -999, 'n_estimators': 1100, 'nthread': 4, 'objective': 'multi:softmax', 'seed': 13255, 'silent': 1, 'subsample': 0.7}\n",
      "\n",
      "Detailed classification report:\n",
      "              precision    recall  f1-score   support\n",
      "\n",
      "         1.0       0.69      0.56      0.62     27214\n",
      "         2.0       0.67      0.80      0.73     56728\n",
      "         3.0       0.75      0.65      0.69     47720\n",
      "\n",
      "    accuracy                           0.70    131662\n",
      "   macro avg       0.70      0.67      0.68    131662\n",
      "weighted avg       0.70      0.70      0.69    131662\n",
      "\n"
     ]
    }
   ],
   "source": [
    "## Getting best params from GridSearchCV\n",
    "from sklearn.metrics import classification_report\n",
    "\n",
    "print(\"Best parameters set found on development set:\")\n",
    "print(clf.best_params_)\n",
    "means = clf.cv_results_['mean_test_score']\n",
    "stds = clf.cv_results_['std_test_score']\n",
    "\n",
    "for mean, std, params in zip(means, stds, clf.cv_results_['params']):\n",
    "    print(\"%0.3f (+/-%0.03f) for %r\" % (mean, std * 2, params))\n",
    "    print()\n",
    "\n",
    "print(\"Detailed classification report:\")\n",
    "y_true, y_pred = y, clf.predict(X)\n",
    "print(classification_report(y_true, y_pred))"
   ]
  },
  {
   "cell_type": "code",
   "execution_count": null,
   "metadata": {},
   "outputs": [],
   "source": []
  },
  {
   "cell_type": "code",
   "execution_count": null,
   "metadata": {},
   "outputs": [],
   "source": []
  }
 ],
 "metadata": {
  "kernelspec": {
   "display_name": "Python 3",
   "language": "python",
   "name": "python3"
  },
  "language_info": {
   "codemirror_mode": {
    "name": "ipython",
    "version": 3
   },
   "file_extension": ".py",
   "mimetype": "text/x-python",
   "name": "python",
   "nbconvert_exporter": "python",
   "pygments_lexer": "ipython3",
   "version": "3.6.3"
  }
 },
 "nbformat": 4,
 "nbformat_minor": 2
}
