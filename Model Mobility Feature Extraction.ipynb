{
 "cells": [
  {
   "cell_type": "code",
   "execution_count": 1,
   "metadata": {},
   "outputs": [
    {
     "name": "stdout",
     "output_type": "stream",
     "text": [
      "(131662, 14) (87395, 13)\n"
     ]
    }
   ],
   "source": [
    "import pandas as pd \n",
    "import numpy as np\n",
    "\n",
    "df_train = pd.read_csv('train.csv')\n",
    "df_test = pd.read_csv('test.csv')\n",
    "print(df_train.shape, df_test.shape)\n",
    "df_train['is_Train'] = 1\n",
    "df_test ['is_Train'] = 0"
   ]
  },
  {
   "cell_type": "code",
   "execution_count": 2,
   "metadata": {},
   "outputs": [
    {
     "name": "stdout",
     "output_type": "stream",
     "text": [
      "(219057, 15)\n"
     ]
    }
   ],
   "source": [
    "data = pd.concat([df_train,df_test] , axis= 0 , sort=False)\n",
    "print(data.shape)"
   ]
  },
  {
   "cell_type": "code",
   "execution_count": 3,
   "metadata": {},
   "outputs": [
    {
     "data": {
      "text/plain": [
       "<bound method NDFrame.head of            Trip_ID  Trip_Distance Type_of_Cab  Customer_Since_Months  \\\n",
       "0      T0005689460           6.77           B                    1.0   \n",
       "1      T0005689461          29.47           B                   10.0   \n",
       "2      T0005689464          41.58         NaN                   10.0   \n",
       "3      T0005689465          61.56           C                   10.0   \n",
       "4      T0005689467          54.95           C                   10.0   \n",
       "...            ...            ...         ...                    ...   \n",
       "87390  T0005908503          29.43           C                    3.0   \n",
       "87391  T0005908504          14.83           C                   10.0   \n",
       "87392  T0005908505          37.86           A                    6.0   \n",
       "87393  T0005908511          10.63           C                    1.0   \n",
       "87394  T0005908515          37.96           B                   10.0   \n",
       "\n",
       "       Life_Style_Index Confidence_Life_Style_Index Destination_Type  \\\n",
       "0               2.42769                           A                A   \n",
       "1               2.78245                           B                A   \n",
       "2                   NaN                         NaN                E   \n",
       "3                   NaN                         NaN                A   \n",
       "4               3.03453                           B                A   \n",
       "...                 ...                         ...              ...   \n",
       "87390           2.40720                           C                A   \n",
       "87391           2.57009                           A                D   \n",
       "87392           3.08227                           C                A   \n",
       "87393               NaN                         NaN                J   \n",
       "87394           3.00274                           A                A   \n",
       "\n",
       "       Customer_Rating  Cancellation_Last_1Month   Var1  Var2  Var3  Gender  \\\n",
       "0              3.90500                         0   40.0    46    60  Female   \n",
       "1              3.45000                         0   38.0    56    78    Male   \n",
       "2              3.50125                         2    NaN    56    77    Male   \n",
       "3              3.45375                         0    NaN    52    74    Male   \n",
       "4              3.40250                         4   51.0    49   102    Male   \n",
       "...                ...                       ...    ...   ...   ...     ...   \n",
       "87390          0.99750                         0   74.0    48    72  Female   \n",
       "87391          4.74375                         0  109.0    42    60  Female   \n",
       "87392          1.63500                         0    NaN    57    77    Male   \n",
       "87393          2.59875                         1  107.0    51    77    Male   \n",
       "87394          2.05500                         0    NaN    48    73  Female   \n",
       "\n",
       "       Surge_Pricing_Type  is_Train  \n",
       "0                     2.0         1  \n",
       "1                     2.0         1  \n",
       "2                     2.0         1  \n",
       "3                     3.0         1  \n",
       "4                     2.0         1  \n",
       "...                   ...       ...  \n",
       "87390                 NaN         0  \n",
       "87391                 NaN         0  \n",
       "87392                 NaN         0  \n",
       "87393                 NaN         0  \n",
       "87394                 NaN         0  \n",
       "\n",
       "[219057 rows x 15 columns]>"
      ]
     },
     "execution_count": 3,
     "metadata": {},
     "output_type": "execute_result"
    }
   ],
   "source": [
    "data.head"
   ]
  },
  {
   "cell_type": "code",
   "execution_count": 4,
   "metadata": {},
   "outputs": [
    {
     "data": {
      "text/plain": [
       "Trip_ID                             0\n",
       "Trip_Distance                       0\n",
       "Type_of_Cab                     33368\n",
       "Customer_Since_Months            9886\n",
       "Life_Style_Index                33520\n",
       "Confidence_Life_Style_Index     33520\n",
       "Destination_Type                    0\n",
       "Customer_Rating                     0\n",
       "Cancellation_Last_1Month            0\n",
       "Var1                           117819\n",
       "Var2                                0\n",
       "Var3                                0\n",
       "Gender                              0\n",
       "Surge_Pricing_Type              87395\n",
       "is_Train                            0\n",
       "dtype: int64"
      ]
     },
     "execution_count": 4,
     "metadata": {},
     "output_type": "execute_result"
    }
   ],
   "source": [
    "data.isna().sum() "
   ]
  },
  {
   "cell_type": "code",
   "execution_count": 5,
   "metadata": {},
   "outputs": [],
   "source": [
    "data['Type_of_Cab'].fillna(pd.Series(np.random.choice(['B','C','A'], size=len(data.index))),inplace=True)\n",
    "data['Customer_Since_Months'].fillna(data['Customer_Since_Months'].median() , inplace=True)\n",
    "data['Life_Style_Index'].fillna(data['Life_Style_Index'].mean() , inplace=True)\n",
    "data['Confidence_Life_Style_Index'].fillna(pd.Series(np.random.choice(['B','C','A'], size=len(data.index))),inplace=True)\n",
    "data['Var1'].fillna(data['Var1'].mean() , inplace=True)"
   ]
  },
  {
   "cell_type": "code",
   "execution_count": 6,
   "metadata": {},
   "outputs": [
    {
     "data": {
      "text/plain": [
       "Index(['Trip_ID', 'Trip_Distance', 'Type_of_Cab', 'Customer_Since_Months',\n",
       "       'Life_Style_Index', 'Confidence_Life_Style_Index', 'Destination_Type',\n",
       "       'Customer_Rating', 'Cancellation_Last_1Month', 'Var1', 'Var2', 'Var3',\n",
       "       'Gender', 'Surge_Pricing_Type', 'is_Train'],\n",
       "      dtype='object')"
      ]
     },
     "execution_count": 6,
     "metadata": {},
     "output_type": "execute_result"
    }
   ],
   "source": [
    "data.columns"
   ]
  },
  {
   "cell_type": "code",
   "execution_count": 7,
   "metadata": {},
   "outputs": [
    {
     "name": "stdout",
     "output_type": "stream",
     "text": [
      "Number of unique entries for  Trip_ID  are  219057\n",
      "Number of unique entries for  Trip_Distance  are  10594\n",
      "Number of unique entries for  Type_of_Cab  are  5\n",
      "Number of unique entries for  Customer_Since_Months  are  11\n",
      "Number of unique entries for  Life_Style_Index  are  69678\n",
      "Number of unique entries for  Confidence_Life_Style_Index  are  3\n",
      "Number of unique entries for  Destination_Type  are  14\n",
      "Number of unique entries for  Customer_Rating  are  3976\n",
      "Number of unique entries for  Cancellation_Last_1Month  are  9\n",
      "Number of unique entries for  Var1  are  131\n",
      "Number of unique entries for  Var2  are  61\n",
      "Number of unique entries for  Var3  are  102\n",
      "Number of unique entries for  Gender  are  2\n",
      "Number of unique entries for  Surge_Pricing_Type  are  3\n",
      "Number of unique entries for  is_Train  are  2\n"
     ]
    }
   ],
   "source": [
    "for col_name in data.columns :\n",
    "    print(\"Number of unique entries for \" , col_name , \" are \",data[col_name].nunique(dropna=True))"
   ]
  },
  {
   "cell_type": "code",
   "execution_count": null,
   "metadata": {},
   "outputs": [],
   "source": []
  },
  {
   "cell_type": "code",
   "execution_count": 8,
   "metadata": {},
   "outputs": [
    {
     "name": "stdout",
     "output_type": "stream",
     "text": [
      "Integer Encoded    Type_of_Cab  Confidence_Life_Style_Index  Gender  Destination_Type\n",
      "1            1                            1       1                 0\n",
      "2            1                            1       1                 4\n",
      "3            2                            1       1                 0\n",
      "4            2                            1       1                 0\n",
      "5            4                            2       1                 0\n",
      "6            4                            2       1                 1\n",
      "7            1                            1       1                 0\n",
      "8            2                            0       1                 0\n",
      "9            3                            1       1                 0\n",
      "One Hot Encoded [[0. 1. 0. 0. 0. 0. 1. 0. 0. 1. 1. 0. 0. 0. 0. 0. 0. 0. 0. 0. 0. 0. 0. 0.]\n",
      " [0. 1. 0. 0. 0. 0. 1. 0. 0. 1. 0. 0. 0. 0. 1. 0. 0. 0. 0. 0. 0. 0. 0. 0.]\n",
      " [0. 0. 1. 0. 0. 0. 1. 0. 0. 1. 1. 0. 0. 0. 0. 0. 0. 0. 0. 0. 0. 0. 0. 0.]\n",
      " [0. 0. 1. 0. 0. 0. 1. 0. 0. 1. 1. 0. 0. 0. 0. 0. 0. 0. 0. 0. 0. 0. 0. 0.]\n",
      " [0. 0. 0. 0. 1. 0. 0. 1. 0. 1. 1. 0. 0. 0. 0. 0. 0. 0. 0. 0. 0. 0. 0. 0.]\n",
      " [0. 0. 0. 0. 1. 0. 0. 1. 0. 1. 0. 1. 0. 0. 0. 0. 0. 0. 0. 0. 0. 0. 0. 0.]\n",
      " [0. 1. 0. 0. 0. 0. 1. 0. 0. 1. 1. 0. 0. 0. 0. 0. 0. 0. 0. 0. 0. 0. 0. 0.]\n",
      " [0. 0. 1. 0. 0. 1. 0. 0. 0. 1. 1. 0. 0. 0. 0. 0. 0. 0. 0. 0. 0. 0. 0. 0.]\n",
      " [0. 0. 0. 1. 0. 0. 1. 0. 0. 1. 1. 0. 0. 0. 0. 0. 0. 0. 0. 0. 0. 0. 0. 0.]]\n"
     ]
    }
   ],
   "source": [
    "## take columns to be one hot encoded\n",
    "data_num = data [['Trip_Distance','Customer_Since_Months','Life_Style_Index','Customer_Rating', 'Cancellation_Last_1Month', \n",
    "                  'Var1', 'Var2', 'Var3','Surge_Pricing_Type', 'is_Train']]\n",
    "data_cat = data [['Type_of_Cab','Confidence_Life_Style_Index','Gender','Destination_Type']]\n",
    "\n",
    "#data_num.fillna('-1',inplace=True)\n",
    "#data_cat.fillna('Z',inplace=True)\n",
    "\n",
    "from numpy import argmax , array\n",
    "from sklearn.preprocessing import LabelEncoder\n",
    "from sklearn.preprocessing import OneHotEncoder\n",
    "\n",
    "# integer encode\n",
    "label_encoder = LabelEncoder()\n",
    "# apply \"le.fit_transform\"\n",
    "integer_encoded = data_cat.apply(label_encoder.fit_transform)\n",
    "\n",
    "print(\"Integer Encoded\",integer_encoded[1:10])\n",
    "# binary encode\n",
    "onehot_encoder = OneHotEncoder(sparse=False)\n",
    "onehot_encoded = onehot_encoder.fit_transform(integer_encoded[['Type_of_Cab', 'Confidence_Life_Style_Index', 'Gender','Destination_Type']])\n",
    "print(\"One Hot Encoded\",onehot_encoded[1:10])\n",
    "# invert first example\n",
    "#inverted = label_encoder.inverse_transform([argmax(onehot_encoded[0, :])])\n",
    "#print(inverted)"
   ]
  },
  {
   "cell_type": "code",
   "execution_count": 9,
   "metadata": {},
   "outputs": [
    {
     "data": {
      "text/plain": [
       "Index(['Type_of_Cab', 'Confidence_Life_Style_Index', 'Gender',\n",
       "       'Destination_Type'],\n",
       "      dtype='object')"
      ]
     },
     "execution_count": 9,
     "metadata": {},
     "output_type": "execute_result"
    }
   ],
   "source": [
    "integer_encoded.columns"
   ]
  },
  {
   "cell_type": "code",
   "execution_count": 10,
   "metadata": {},
   "outputs": [
    {
     "data": {
      "text/plain": [
       "array(['x0_0', 'x0_1', 'x0_2', 'x0_3', 'x0_4', 'x1_0', 'x1_1', 'x1_2',\n",
       "       'x2_0', 'x2_1', 'x3_0', 'x3_1', 'x3_2', 'x3_3', 'x3_4', 'x3_5',\n",
       "       'x3_6', 'x3_7', 'x3_8', 'x3_9', 'x3_10', 'x3_11', 'x3_12', 'x3_13'],\n",
       "      dtype=object)"
      ]
     },
     "execution_count": 10,
     "metadata": {},
     "output_type": "execute_result"
    }
   ],
   "source": [
    "onehot_encoder.get_feature_names()"
   ]
  },
  {
   "cell_type": "code",
   "execution_count": 11,
   "metadata": {},
   "outputs": [
    {
     "name": "stderr",
     "output_type": "stream",
     "text": [
      "c:\\program files\\python36\\lib\\site-packages\\ipykernel_launcher.py:8: SettingWithCopyWarning: \n",
      "A value is trying to be set on a copy of a slice from a DataFrame.\n",
      "Try using .loc[row_indexer,col_indexer] = value instead\n",
      "\n",
      "See the caveats in the documentation: http://pandas.pydata.org/pandas-docs/stable/user_guide/indexing.html#returning-a-view-versus-a-copy\n",
      "  \n",
      "c:\\program files\\python36\\lib\\site-packages\\ipykernel_launcher.py:9: SettingWithCopyWarning: \n",
      "A value is trying to be set on a copy of a slice from a DataFrame.\n",
      "Try using .loc[row_indexer,col_indexer] = value instead\n",
      "\n",
      "See the caveats in the documentation: http://pandas.pydata.org/pandas-docs/stable/user_guide/indexing.html#returning-a-view-versus-a-copy\n",
      "  if __name__ == '__main__':\n",
      "c:\\program files\\python36\\lib\\site-packages\\ipykernel_launcher.py:10: SettingWithCopyWarning: \n",
      "A value is trying to be set on a copy of a slice from a DataFrame.\n",
      "Try using .loc[row_indexer,col_indexer] = value instead\n",
      "\n",
      "See the caveats in the documentation: http://pandas.pydata.org/pandas-docs/stable/user_guide/indexing.html#returning-a-view-versus-a-copy\n",
      "  # Remove the CWD from sys.path while we load stuff.\n",
      "c:\\program files\\python36\\lib\\site-packages\\ipykernel_launcher.py:11: SettingWithCopyWarning: \n",
      "A value is trying to be set on a copy of a slice from a DataFrame.\n",
      "Try using .loc[row_indexer,col_indexer] = value instead\n",
      "\n",
      "See the caveats in the documentation: http://pandas.pydata.org/pandas-docs/stable/user_guide/indexing.html#returning-a-view-versus-a-copy\n",
      "  # This is added back by InteractiveShellApp.init_path()\n",
      "c:\\program files\\python36\\lib\\site-packages\\ipykernel_launcher.py:12: SettingWithCopyWarning: \n",
      "A value is trying to be set on a copy of a slice from a DataFrame.\n",
      "Try using .loc[row_indexer,col_indexer] = value instead\n",
      "\n",
      "See the caveats in the documentation: http://pandas.pydata.org/pandas-docs/stable/user_guide/indexing.html#returning-a-view-versus-a-copy\n",
      "  if sys.path[0] == '':\n",
      "c:\\program files\\python36\\lib\\site-packages\\ipykernel_launcher.py:13: SettingWithCopyWarning: \n",
      "A value is trying to be set on a copy of a slice from a DataFrame.\n",
      "Try using .loc[row_indexer,col_indexer] = value instead\n",
      "\n",
      "See the caveats in the documentation: http://pandas.pydata.org/pandas-docs/stable/user_guide/indexing.html#returning-a-view-versus-a-copy\n",
      "  del sys.path[0]\n",
      "c:\\program files\\python36\\lib\\site-packages\\ipykernel_launcher.py:14: SettingWithCopyWarning: \n",
      "A value is trying to be set on a copy of a slice from a DataFrame.\n",
      "Try using .loc[row_indexer,col_indexer] = value instead\n",
      "\n",
      "See the caveats in the documentation: http://pandas.pydata.org/pandas-docs/stable/user_guide/indexing.html#returning-a-view-versus-a-copy\n",
      "  \n",
      "c:\\program files\\python36\\lib\\site-packages\\ipykernel_launcher.py:15: SettingWithCopyWarning: \n",
      "A value is trying to be set on a copy of a slice from a DataFrame.\n",
      "Try using .loc[row_indexer,col_indexer] = value instead\n",
      "\n",
      "See the caveats in the documentation: http://pandas.pydata.org/pandas-docs/stable/user_guide/indexing.html#returning-a-view-versus-a-copy\n",
      "  from ipykernel import kernelapp as app\n"
     ]
    }
   ],
   "source": [
    "import pandas as pd\n",
    "from sklearn import preprocessing\n",
    "\n",
    "min_max_scaler = preprocessing.MinMaxScaler()\n",
    "x_scaled = min_max_scaler.fit_transform(data_num[['Trip_Distance','Customer_Since_Months','Life_Style_Index','Customer_Rating',\n",
    "                                                  'Cancellation_Last_1Month','Var1','Var2','Var3']])\n",
    "df = pd.DataFrame(x_scaled)\n",
    "data_num['Trip_Distance'] = df[0].values\n",
    "data_num['Customer_Since_Months'] = df[1].values\n",
    "data_num['Life_Style_Index'] = df[2].values\n",
    "data_num['Customer_Rating'] = df[3].values\n",
    "data_num['Cancellation_Last_1Month'] = df[4].values\n",
    "data_num['Var1'] = df[5].values\n",
    "data_num['Var2'] = df[6].values\n",
    "data_num['Var3'] = df[7].values"
   ]
  },
  {
   "cell_type": "code",
   "execution_count": 12,
   "metadata": {},
   "outputs": [
    {
     "name": "stdout",
     "output_type": "stream",
     "text": [
      "<class 'numpy.ndarray'>\n",
      "(219057, 34)\n"
     ]
    }
   ],
   "source": [
    "print(type(onehot_encoded))\n",
    "data_cat = pd.DataFrame(onehot_encoded,columns=onehot_encoder.get_feature_names())\n",
    "data_cat.reset_index(inplace=True, drop=True)\n",
    "data_num.reset_index(inplace=True, drop=True)\n",
    "data_final = pd.concat([data_num,data_cat], axis=1)\n",
    "print(data_final.shape)"
   ]
  },
  {
   "cell_type": "code",
   "execution_count": 13,
   "metadata": {},
   "outputs": [
    {
     "name": "stdout",
     "output_type": "stream",
     "text": [
      "Done Writing to files\n"
     ]
    }
   ],
   "source": [
    "data_final[data_final.is_Train == 1].to_csv('train_final.csv', index=False , header=True)\n",
    "data_final[data_final.is_Train == 0].to_csv('test_final.csv',index=False , header=True)\n",
    "print(\"Done Writing to files\")"
   ]
  },
  {
   "cell_type": "code",
   "execution_count": 14,
   "metadata": {},
   "outputs": [
    {
     "data": {
      "text/plain": [
       "<bound method NDFrame.head of         Trip_Distance  Customer_Since_Months  Life_Style_Index  \\\n",
       "0            0.059310                    0.1          0.311993   \n",
       "1            0.267719                    1.0          0.411721   \n",
       "2            0.378902                    1.0          0.417384   \n",
       "3            0.562339                    1.0          0.417384   \n",
       "4            0.501653                    1.0          0.482585   \n",
       "...               ...                    ...               ...   \n",
       "219052       0.267352                    0.3          0.306233   \n",
       "219053       0.133309                    1.0          0.352024   \n",
       "219054       0.344748                    0.6          0.496005   \n",
       "219055       0.094748                    0.1          0.417384   \n",
       "219056       0.345667                    1.0          0.473648   \n",
       "\n",
       "        Customer_Rating  Cancellation_Last_1Month      Var1      Var2  \\\n",
       "0              0.780945                     0.000  0.055556  0.071429   \n",
       "1              0.689922                     0.000  0.044444  0.190476   \n",
       "2              0.700175                     0.250  0.189422  0.190476   \n",
       "3              0.690673                     0.000  0.189422  0.142857   \n",
       "4              0.680420                     0.500  0.116667  0.107143   \n",
       "...                 ...                       ...       ...       ...   \n",
       "219052         0.199300                     0.000  0.244444  0.095238   \n",
       "219053         0.948737                     0.000  0.438889  0.023810   \n",
       "219054         0.326832                     0.000  0.189422  0.202381   \n",
       "219055         0.519630                     0.125  0.427778  0.130952   \n",
       "219056         0.410853                     0.000  0.189422  0.095238   \n",
       "\n",
       "            Var3  Surge_Pricing_Type  is_Train  \n",
       "0       0.051948                 2.0         1  \n",
       "1       0.168831                 2.0         1  \n",
       "2       0.162338                 2.0         1  \n",
       "3       0.142857                 3.0         1  \n",
       "4       0.324675                 2.0         1  \n",
       "...          ...                 ...       ...  \n",
       "219052  0.129870                 NaN         0  \n",
       "219053  0.051948                 NaN         0  \n",
       "219054  0.162338                 NaN         0  \n",
       "219055  0.162338                 NaN         0  \n",
       "219056  0.136364                 NaN         0  \n",
       "\n",
       "[219057 rows x 10 columns]>"
      ]
     },
     "execution_count": 14,
     "metadata": {},
     "output_type": "execute_result"
    }
   ],
   "source": [
    "data_num.head"
   ]
  },
  {
   "cell_type": "code",
   "execution_count": null,
   "metadata": {},
   "outputs": [],
   "source": []
  }
 ],
 "metadata": {
  "kernelspec": {
   "display_name": "Python 3",
   "language": "python",
   "name": "python3"
  },
  "language_info": {
   "codemirror_mode": {
    "name": "ipython",
    "version": 3
   },
   "file_extension": ".py",
   "mimetype": "text/x-python",
   "name": "python",
   "nbconvert_exporter": "python",
   "pygments_lexer": "ipython3",
   "version": "3.6.3"
  }
 },
 "nbformat": 4,
 "nbformat_minor": 2
}
