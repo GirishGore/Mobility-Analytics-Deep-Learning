{
 "cells": [
  {
   "cell_type": "code",
   "execution_count": 62,
   "metadata": {},
   "outputs": [],
   "source": [
    "############ Imports ###############\n",
    "import pandas as pd \n",
    "import numpy as np\n",
    "\n",
    "import matplotlib.pyplot as plt\n",
    "import seaborn as sns\n",
    "%matplotlib inline\n",
    "\n",
    "\n",
    "from sklearn.preprocessing import LabelEncoder\n",
    "from sklearn.preprocessing import OneHotEncoder"
   ]
  },
  {
   "cell_type": "code",
   "execution_count": 63,
   "metadata": {},
   "outputs": [
    {
     "name": "stdout",
     "output_type": "stream",
     "text": [
      "(131662, 14) (87395, 13)\n"
     ]
    }
   ],
   "source": [
    "df_train = pd.read_csv('train.csv')\n",
    "df_test = pd.read_csv('test.csv')\n",
    "print(df_train.shape, df_test.shape)\n",
    "df_train['is_Train'] = 1\n",
    "df_test ['is_Train'] = 0"
   ]
  },
  {
   "cell_type": "code",
   "execution_count": 64,
   "metadata": {},
   "outputs": [
    {
     "name": "stdout",
     "output_type": "stream",
     "text": [
      "(219057, 15)\n"
     ]
    }
   ],
   "source": [
    "data = pd.concat([df_train,df_test] , axis= 0 , sort=False)\n",
    "print(data.shape)"
   ]
  },
  {
   "cell_type": "code",
   "execution_count": 65,
   "metadata": {},
   "outputs": [
    {
     "data": {
      "text/plain": [
       "<bound method NDFrame.head of            Trip_ID  Trip_Distance Type_of_Cab  Customer_Since_Months  \\\n",
       "0      T0005689460           6.77           B                    1.0   \n",
       "1      T0005689461          29.47           B                   10.0   \n",
       "2      T0005689464          41.58         NaN                   10.0   \n",
       "3      T0005689465          61.56           C                   10.0   \n",
       "4      T0005689467          54.95           C                   10.0   \n",
       "...            ...            ...         ...                    ...   \n",
       "87390  T0005908503          29.43           C                    3.0   \n",
       "87391  T0005908504          14.83           C                   10.0   \n",
       "87392  T0005908505          37.86           A                    6.0   \n",
       "87393  T0005908511          10.63           C                    1.0   \n",
       "87394  T0005908515          37.96           B                   10.0   \n",
       "\n",
       "       Life_Style_Index Confidence_Life_Style_Index Destination_Type  \\\n",
       "0               2.42769                           A                A   \n",
       "1               2.78245                           B                A   \n",
       "2                   NaN                         NaN                E   \n",
       "3                   NaN                         NaN                A   \n",
       "4               3.03453                           B                A   \n",
       "...                 ...                         ...              ...   \n",
       "87390           2.40720                           C                A   \n",
       "87391           2.57009                           A                D   \n",
       "87392           3.08227                           C                A   \n",
       "87393               NaN                         NaN                J   \n",
       "87394           3.00274                           A                A   \n",
       "\n",
       "       Customer_Rating  Cancellation_Last_1Month   Var1  Var2  Var3  Gender  \\\n",
       "0              3.90500                         0   40.0    46    60  Female   \n",
       "1              3.45000                         0   38.0    56    78    Male   \n",
       "2              3.50125                         2    NaN    56    77    Male   \n",
       "3              3.45375                         0    NaN    52    74    Male   \n",
       "4              3.40250                         4   51.0    49   102    Male   \n",
       "...                ...                       ...    ...   ...   ...     ...   \n",
       "87390          0.99750                         0   74.0    48    72  Female   \n",
       "87391          4.74375                         0  109.0    42    60  Female   \n",
       "87392          1.63500                         0    NaN    57    77    Male   \n",
       "87393          2.59875                         1  107.0    51    77    Male   \n",
       "87394          2.05500                         0    NaN    48    73  Female   \n",
       "\n",
       "       Surge_Pricing_Type  is_Train  \n",
       "0                     2.0         1  \n",
       "1                     2.0         1  \n",
       "2                     2.0         1  \n",
       "3                     3.0         1  \n",
       "4                     2.0         1  \n",
       "...                   ...       ...  \n",
       "87390                 NaN         0  \n",
       "87391                 NaN         0  \n",
       "87392                 NaN         0  \n",
       "87393                 NaN         0  \n",
       "87394                 NaN         0  \n",
       "\n",
       "[219057 rows x 15 columns]>"
      ]
     },
     "execution_count": 65,
     "metadata": {},
     "output_type": "execute_result"
    }
   ],
   "source": [
    "data.head"
   ]
  },
  {
   "cell_type": "code",
   "execution_count": 66,
   "metadata": {},
   "outputs": [
    {
     "data": {
      "text/plain": [
       "<matplotlib.axes._subplots.AxesSubplot at 0x2bcc46658d0>"
      ]
     },
     "execution_count": 66,
     "metadata": {},
     "output_type": "execute_result"
    },
    {
     "data": {
      "image/png": "[encoded data removed]",
      "text/plain": [
       "<Figure size 432x288 with 1 Axes>"
      ]
     },
     "metadata": {
      "needs_background": "light"
     },
     "output_type": "display_data"
    }
   ],
   "source": [
    "sns.countplot(data[\"Surge_Pricing_Type\"])"
   ]
  },
  {
   "cell_type": "code",
   "execution_count": 67,
   "metadata": {},
   "outputs": [
    {
     "data": {
      "image/png": "[encoded data removed]",
      "text/plain": [
       "<Figure size 432x288 with 1 Axes>"
      ]
     },
     "metadata": {
      "needs_background": "light"
     },
     "output_type": "display_data"
    }
   ],
   "source": [
    "sns.countplot(data[\"Type_of_Cab\"])\n",
    "plt.show()"
   ]
  },
  {
   "cell_type": "code",
   "execution_count": 68,
   "metadata": {},
   "outputs": [
    {
     "data": {
      "text/plain": [
       "<matplotlib.axes._subplots.AxesSubplot at 0x2bcc9a53da0>"
      ]
     },
     "execution_count": 68,
     "metadata": {},
     "output_type": "execute_result"
    },
    {
     "data": {
      "image/png": "[encoded data removed]",
      "text/plain": [
       "<Figure size 432x288 with 1 Axes>"
      ]
     },
     "metadata": {
      "needs_background": "light"
     },
     "output_type": "display_data"
    }
   ],
   "source": [
    "x = data.groupby(\"Destination_Type\")[\"Customer_Rating\"].mean().index\n",
    "y= data.groupby(\"Destination_Type\")[\"Customer_Rating\"].mean().values\n",
    "sns.barplot(x,y)"
   ]
  },
  {
   "cell_type": "code",
   "execution_count": 69,
   "metadata": {},
   "outputs": [
    {
     "data": {
      "text/plain": [
       "<matplotlib.axes._subplots.AxesSubplot at 0x2bcc9b97940>"
      ]
     },
     "execution_count": 69,
     "metadata": {},
     "output_type": "execute_result"
    },
    {
     "data": {
      "image/png": "[encoded data removed]",
      "text/plain": [
       "<Figure size 432x288 with 1 Axes>"
      ]
     },
     "metadata": {
      "needs_background": "light"
     },
     "output_type": "display_data"
    }
   ],
   "source": [
    "x = data.groupby(\"Type_of_Cab\")[\"Trip_Distance\"].mean().index\n",
    "y= data.groupby(\"Type_of_Cab\")[\"Trip_Distance\"].mean().values\n",
    "sns.barplot(x,y)"
   ]
  },
  {
   "cell_type": "code",
   "execution_count": 70,
   "metadata": {},
   "outputs": [
    {
     "data": {
      "text/plain": [
       "<matplotlib.axes._subplots.AxesSubplot at 0x2bcc9b92748>"
      ]
     },
     "execution_count": 70,
     "metadata": {},
     "output_type": "execute_result"
    },
    {
     "data": {
      "image/png": "[encoded data removed]",
      "text/plain": [
       "<Figure size 432x288 with 1 Axes>"
      ]
     },
     "metadata": {
      "needs_background": "light"
     },
     "output_type": "display_data"
    }
   ],
   "source": [
    "sns.countplot(data[\"Customer_Since_Months\"])"
   ]
  },
  {
   "cell_type": "code",
   "execution_count": 71,
   "metadata": {},
   "outputs": [
    {
     "data": {
      "text/plain": [
       "<matplotlib.axes._subplots.AxesSubplot at 0x2bcc9cdf668>"
      ]
     },
     "execution_count": 71,
     "metadata": {},
     "output_type": "execute_result"
    },
    {
     "data": {
      "image/png": "[encoded data removed]",
      "text/plain": [
       "<Figure size 432x288 with 1 Axes>"
      ]
     },
     "metadata": {
      "needs_background": "light"
     },
     "output_type": "display_data"
    }
   ],
   "source": [
    "sns.distplot(data[\"Life_Style_Index\"])"
   ]
  },
  {
   "cell_type": "code",
   "execution_count": 72,
   "metadata": {},
   "outputs": [
    {
     "data": {
      "text/plain": [
       "<matplotlib.axes._subplots.AxesSubplot at 0x2bcc9d511d0>"
      ]
     },
     "execution_count": 72,
     "metadata": {},
     "output_type": "execute_result"
    },
    {
     "data": {
      "image/png": "[encoded data removed]",
      "text/plain": [
       "<Figure size 432x288 with 1 Axes>"
      ]
     },
     "metadata": {
      "needs_background": "light"
     },
     "output_type": "display_data"
    }
   ],
   "source": [
    "sns.distplot(data[\"Customer_Rating\"])"
   ]
  },
  {
   "cell_type": "code",
   "execution_count": 73,
   "metadata": {},
   "outputs": [
    {
     "data": {
      "text/plain": [
       "Trip_ID                             0\n",
       "Trip_Distance                       0\n",
       "Type_of_Cab                     33368\n",
       "Customer_Since_Months            9886\n",
       "Life_Style_Index                33520\n",
       "Confidence_Life_Style_Index     33520\n",
       "Destination_Type                    0\n",
       "Customer_Rating                     0\n",
       "Cancellation_Last_1Month            0\n",
       "Var1                           117819\n",
       "Var2                                0\n",
       "Var3                                0\n",
       "Gender                              0\n",
       "Surge_Pricing_Type              87395\n",
       "is_Train                            0\n",
       "dtype: int64"
      ]
     },
     "execution_count": 73,
     "metadata": {},
     "output_type": "execute_result"
    }
   ],
   "source": [
    "data.isna().sum() "
   ]
  },
  {
   "cell_type": "code",
   "execution_count": 74,
   "metadata": {},
   "outputs": [],
   "source": [
    "### Some of the random imputation below can be replaced by ML based imputation methods\n",
    "data['Type_of_Cab'].fillna(pd.Series(np.random.choice(['B','C','A'], size=len(data.index))),inplace=True)\n",
    "data['Customer_Since_Months'].fillna(data['Customer_Since_Months'].median() , inplace=True)\n",
    "data['Life_Style_Index'].fillna(data['Life_Style_Index'].mean() , inplace=True)\n",
    "data['Confidence_Life_Style_Index'].fillna(pd.Series(np.random.choice(['B','C','A'], size=len(data.index))),inplace=True)\n",
    "data['Var1'].fillna(data['Var1'].mean() , inplace=True)"
   ]
  },
  {
   "cell_type": "code",
   "execution_count": 75,
   "metadata": {},
   "outputs": [
    {
     "data": {
      "text/plain": [
       "Index(['Trip_ID', 'Trip_Distance', 'Type_of_Cab', 'Customer_Since_Months',\n",
       "       'Life_Style_Index', 'Confidence_Life_Style_Index', 'Destination_Type',\n",
       "       'Customer_Rating', 'Cancellation_Last_1Month', 'Var1', 'Var2', 'Var3',\n",
       "       'Gender', 'Surge_Pricing_Type', 'is_Train'],\n",
       "      dtype='object')"
      ]
     },
     "execution_count": 75,
     "metadata": {},
     "output_type": "execute_result"
    }
   ],
   "source": [
    "data.columns"
   ]
  },
  {
   "cell_type": "code",
   "execution_count": 76,
   "metadata": {},
   "outputs": [
    {
     "name": "stdout",
     "output_type": "stream",
     "text": [
      "Number of unique entries for  Trip_ID  are  219057\n",
      "Number of unique entries for  Trip_Distance  are  10594\n",
      "Number of unique entries for  Type_of_Cab  are  5\n",
      "Number of unique entries for  Customer_Since_Months  are  11\n",
      "Number of unique entries for  Life_Style_Index  are  69678\n",
      "Number of unique entries for  Confidence_Life_Style_Index  are  3\n",
      "Number of unique entries for  Destination_Type  are  14\n",
      "Number of unique entries for  Customer_Rating  are  3976\n",
      "Number of unique entries for  Cancellation_Last_1Month  are  9\n",
      "Number of unique entries for  Var1  are  131\n",
      "Number of unique entries for  Var2  are  61\n",
      "Number of unique entries for  Var3  are  102\n",
      "Number of unique entries for  Gender  are  2\n",
      "Number of unique entries for  Surge_Pricing_Type  are  3\n",
      "Number of unique entries for  is_Train  are  2\n"
     ]
    }
   ],
   "source": [
    "for col_name in data.columns :\n",
    "    print(\"Number of unique entries for \" , col_name , \" are \",data[col_name].nunique(dropna=True))"
   ]
  },
  {
   "cell_type": "code",
   "execution_count": 77,
   "metadata": {},
   "outputs": [
    {
     "name": "stdout",
     "output_type": "stream",
     "text": [
      "Integer Encoded    Type_of_Cab  Confidence_Life_Style_Index  Gender  Destination_Type\n",
      "1            1                            1       1                 0\n",
      "2            1                            1       1                 4\n",
      "3            2                            2       1                 0\n",
      "4            2                            1       1                 0\n",
      "5            4                            1       1                 0\n",
      "6            4                            2       1                 1\n",
      "7            1                            1       1                 0\n",
      "8            2                            0       1                 0\n",
      "9            3                            1       1                 0\n",
      "One Hot Encoded [[0. 1. 0. 0. 0. 0. 1. 0. 0. 1. 1. 0. 0. 0. 0. 0. 0. 0. 0. 0. 0. 0. 0. 0.]\n",
      " [0. 1. 0. 0. 0. 0. 1. 0. 0. 1. 0. 0. 0. 0. 1. 0. 0. 0. 0. 0. 0. 0. 0. 0.]\n",
      " [0. 0. 1. 0. 0. 0. 0. 1. 0. 1. 1. 0. 0. 0. 0. 0. 0. 0. 0. 0. 0. 0. 0. 0.]\n",
      " [0. 0. 1. 0. 0. 0. 1. 0. 0. 1. 1. 0. 0. 0. 0. 0. 0. 0. 0. 0. 0. 0. 0. 0.]\n",
      " [0. 0. 0. 0. 1. 0. 1. 0. 0. 1. 1. 0. 0. 0. 0. 0. 0. 0. 0. 0. 0. 0. 0. 0.]\n",
      " [0. 0. 0. 0. 1. 0. 0. 1. 0. 1. 0. 1. 0. 0. 0. 0. 0. 0. 0. 0. 0. 0. 0. 0.]\n",
      " [0. 1. 0. 0. 0. 0. 1. 0. 0. 1. 1. 0. 0. 0. 0. 0. 0. 0. 0. 0. 0. 0. 0. 0.]\n",
      " [0. 0. 1. 0. 0. 1. 0. 0. 0. 1. 1. 0. 0. 0. 0. 0. 0. 0. 0. 0. 0. 0. 0. 0.]\n",
      " [0. 0. 0. 1. 0. 0. 1. 0. 0. 1. 1. 0. 0. 0. 0. 0. 0. 0. 0. 0. 0. 0. 0. 0.]]\n"
     ]
    }
   ],
   "source": [
    "# disable chained assignments\n",
    "pd.options.mode.chained_assignment = None \n",
    "## take columns to be one hot encoded\n",
    "data_num = data [['Trip_Distance','Customer_Since_Months','Life_Style_Index','Customer_Rating', 'Cancellation_Last_1Month', \n",
    "                  'Var1', 'Var2', 'Var3','Surge_Pricing_Type', 'is_Train']]\n",
    "data_cat = data [['Type_of_Cab','Confidence_Life_Style_Index','Gender','Destination_Type']]\n",
    "\n",
    "# integer encode\n",
    "label_encoder = LabelEncoder()\n",
    "# apply \"le.fit_transform\"\n",
    "integer_encoded = data_cat.apply(label_encoder.fit_transform)\n",
    "print(\"Integer Encoded\",integer_encoded[1:10])\n",
    "# binary encode\n",
    "onehot_encoder = OneHotEncoder(sparse=False)\n",
    "onehot_encoded = onehot_encoder.fit_transform(integer_encoded[['Type_of_Cab', 'Confidence_Life_Style_Index', 'Gender','Destination_Type']])\n",
    "print(\"One Hot Encoded\",onehot_encoded[1:10])\n",
    "# invert first example\n",
    "#inverted = label_encoder.inverse_transform([argmax(onehot_encoded[0, :])])\n",
    "#print(inverted)"
   ]
  },
  {
   "cell_type": "code",
   "execution_count": 49,
   "metadata": {},
   "outputs": [
    {
     "data": {
      "text/plain": [
       "Index(['Type_of_Cab', 'Confidence_Life_Style_Index', 'Gender',\n",
       "       'Destination_Type'],\n",
       "      dtype='object')"
      ]
     },
     "execution_count": 49,
     "metadata": {},
     "output_type": "execute_result"
    }
   ],
   "source": [
    "integer_encoded.columns"
   ]
  },
  {
   "cell_type": "code",
   "execution_count": 79,
   "metadata": {},
   "outputs": [
    {
     "data": {
      "text/plain": [
       "array(['Type_of_Cab_0', 'Type_of_Cab_1', 'Type_of_Cab_2', 'Type_of_Cab_3',\n",
       "       'Type_of_Cab_4', 'Confidence_Life_Style_Index_0',\n",
       "       'Confidence_Life_Style_Index_1', 'Confidence_Life_Style_Index_2',\n",
       "       'Gender_0', 'Gender_1', 'Destination_Type_0', 'Destination_Type_1',\n",
       "       'Destination_Type_2', 'Destination_Type_3', 'Destination_Type_4',\n",
       "       'Destination_Type_5', 'Destination_Type_6', 'Destination_Type_7',\n",
       "       'Destination_Type_8', 'Destination_Type_9', 'Destination_Type_10',\n",
       "       'Destination_Type_11', 'Destination_Type_12',\n",
       "       'Destination_Type_13'], dtype=object)"
      ]
     },
     "execution_count": 79,
     "metadata": {},
     "output_type": "execute_result"
    }
   ],
   "source": [
    "onehot_encoder.get_feature_names(['Type_of_Cab', 'Confidence_Life_Style_Index', 'Gender','Destination_Type'])"
   ]
  },
  {
   "cell_type": "code",
   "execution_count": 51,
   "metadata": {},
   "outputs": [],
   "source": [
    "import pandas as pd\n",
    "from sklearn import preprocessing\n",
    "\n",
    "min_max_scaler = preprocessing.MinMaxScaler()\n",
    "x_scaled = min_max_scaler.fit_transform(data_num[['Trip_Distance','Customer_Since_Months','Life_Style_Index','Customer_Rating',\n",
    "                                                  'Cancellation_Last_1Month','Var1','Var2','Var3']])\n",
    "df = pd.DataFrame(x_scaled)\n",
    "data_num['Trip_Distance'] = df[0].values\n",
    "data_num['Customer_Since_Months'] = df[1].values\n",
    "data_num['Life_Style_Index'] = df[2].values\n",
    "data_num['Customer_Rating'] = df[3].values\n",
    "data_num['Cancellation_Last_1Month'] = df[4].values\n",
    "data_num['Var1'] = df[5].values\n",
    "data_num['Var2'] = df[6].values\n",
    "data_num['Var3'] = df[7].values"
   ]
  },
  {
   "cell_type": "code",
   "execution_count": 52,
   "metadata": {},
   "outputs": [
    {
     "name": "stdout",
     "output_type": "stream",
     "text": [
      "<class 'numpy.ndarray'>\n",
      "(219057, 34)\n"
     ]
    }
   ],
   "source": [
    "print(type(onehot_encoded))\n",
    "data_cat = pd.DataFrame(onehot_encoded,columns=onehot_encoder.get_feature_names(['Type_of_Cab', 'Confidence_Life_Style_Index', 'Gender','Destination_Type']))\n",
    "data_cat.reset_index(inplace=True, drop=True)\n",
    "data_num.reset_index(inplace=True, drop=True)\n",
    "data_final = pd.concat([data_num,data_cat], axis=1)\n",
    "print(data_final.shape)"
   ]
  },
  {
   "cell_type": "code",
   "execution_count": 55,
   "metadata": {},
   "outputs": [],
   "source": [
    "#### Interesting creation of new features ####\n",
    "data[\"Trip_Distance_per_destType\"] = data[\"Trip_Distance\"]/data.groupby(['Destination_Type'])['Trip_Distance'].transform('mean')\n",
    "data[\"Trip_Distance_per_CabType\"] = data[\"Trip_Distance\"]/data.groupby(['Type_of_Cab'])['Trip_Distance'].transform('mean')\n",
    "data[\"Trip_Distance_per_lifeStyle\"] = data[\"Trip_Distance\"]/data.groupby(['Confidence_Life_Style_Index'])['Trip_Distance'].transform('mean')"
   ]
  },
  {
   "cell_type": "code",
   "execution_count": 56,
   "metadata": {},
   "outputs": [
    {
     "name": "stdout",
     "output_type": "stream",
     "text": [
      "Done Writing to files\n"
     ]
    }
   ],
   "source": [
    "data_final[data_final.is_Train == 1].to_csv('train_final.csv', index=False , header=True)\n",
    "data_final[data_final.is_Train == 0].to_csv('test_final.csv',index=False , header=True)\n",
    "print(\"Done Writing to files\")"
   ]
  },
  {
   "cell_type": "code",
   "execution_count": 58,
   "metadata": {},
   "outputs": [
    {
     "data": {
      "text/plain": [
       "Index(['Trip_Distance', 'Customer_Since_Months', 'Life_Style_Index',\n",
       "       'Customer_Rating', 'Cancellation_Last_1Month', 'Var1', 'Var2', 'Var3',\n",
       "       'Surge_Pricing_Type', 'is_Train', 'x0_0', 'x0_1', 'x0_2', 'x0_3',\n",
       "       'x0_4', 'x1_0', 'x1_1', 'x1_2', 'x2_0', 'x2_1', 'x3_0', 'x3_1', 'x3_2',\n",
       "       'x3_3', 'x3_4', 'x3_5', 'x3_6', 'x3_7', 'x3_8', 'x3_9', 'x3_10',\n",
       "       'x3_11', 'x3_12', 'x3_13'],\n",
       "      dtype='object')"
      ]
     },
     "execution_count": 58,
     "metadata": {},
     "output_type": "execute_result"
    }
   ],
   "source": [
    "data_final.columns"
   ]
  },
  {
   "cell_type": "code",
   "execution_count": null,
   "metadata": {},
   "outputs": [],
   "source": []
  }
 ],
 "metadata": {
  "kernelspec": {
   "display_name": "Python 3",
   "language": "python",
   "name": "python3"
  },
  "language_info": {
   "codemirror_mode": {
    "name": "ipython",
    "version": 3
   },
   "file_extension": ".py",
   "mimetype": "text/x-python",
   "name": "python",
   "nbconvert_exporter": "python",
   "pygments_lexer": "ipython3",
   "version": "3.6.3"
  }
 },
 "nbformat": 4,
 "nbformat_minor": 2
}
