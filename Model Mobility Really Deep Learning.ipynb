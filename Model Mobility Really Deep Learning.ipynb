{
 "cells": [
  {
   "cell_type": "code",
   "execution_count": 39,
   "metadata": {},
   "outputs": [
    {
     "name": "stdout",
     "output_type": "stream",
     "text": [
      "(131662, 34) (87395, 34)\n"
     ]
    }
   ],
   "source": [
    "import pandas as pd\n",
    "train = pd.read_csv('train_final.csv')\n",
    "test = pd.read_csv('test_final.csv')\n",
    "print(train.shape,test.shape)"
   ]
  },
  {
   "cell_type": "code",
   "execution_count": 40,
   "metadata": {},
   "outputs": [
    {
     "data": {
      "text/plain": [
       "<bound method NDFrame.head of         Trip_Distance  Customer_Since_Months  Life_Style_Index  \\\n",
       "0            0.059310                    0.1          0.311993   \n",
       "1            0.267719                    1.0          0.411721   \n",
       "2            0.378902                    1.0          0.417384   \n",
       "3            0.562339                    1.0          0.417384   \n",
       "4            0.501653                    1.0          0.482585   \n",
       "...               ...                    ...               ...   \n",
       "131657       0.104756                    0.1          0.400432   \n",
       "131658       0.683988                    0.7          0.419632   \n",
       "131659       0.365957                    1.0          0.471655   \n",
       "131660       0.427562                    0.4          0.486214   \n",
       "131661       0.290580                    0.7          0.455373   \n",
       "\n",
       "        Customer_Rating  Cancellation_Last_1Month      Var1      Var2  \\\n",
       "0              0.780945                     0.000  0.055556  0.071429   \n",
       "1              0.689922                     0.000  0.044444  0.190476   \n",
       "2              0.700175                     0.250  0.189422  0.190476   \n",
       "3              0.690673                     0.000  0.189422  0.142857   \n",
       "4              0.680420                     0.500  0.116667  0.107143   \n",
       "...                 ...                       ...       ...       ...   \n",
       "131657         0.656914                     0.000  0.172222  0.083333   \n",
       "131658         0.088772                     0.000  0.189422  0.273810   \n",
       "131659         0.667167                     0.000  0.189422  0.095238   \n",
       "131660         0.831458                     0.125  0.094444  0.166667   \n",
       "131661         0.527632                     0.125  0.400000  0.202381   \n",
       "\n",
       "            Var3  Surge_Pricing_Type  is_Train  ...  x3_4  x3_5  x3_6  x3_7  \\\n",
       "0       0.051948                 2.0         1  ...   0.0   0.0   0.0   0.0   \n",
       "1       0.168831                 2.0         1  ...   0.0   0.0   0.0   0.0   \n",
       "2       0.162338                 2.0         1  ...   1.0   0.0   0.0   0.0   \n",
       "3       0.142857                 3.0         1  ...   0.0   0.0   0.0   0.0   \n",
       "4       0.324675                 2.0         1  ...   0.0   0.0   0.0   0.0   \n",
       "...          ...                 ...       ...  ...   ...   ...   ...   ...   \n",
       "131657  0.155844                 3.0         1  ...   0.0   0.0   0.0   0.0   \n",
       "131658  0.233766                 2.0         1  ...   0.0   0.0   0.0   0.0   \n",
       "131659  0.149351                 2.0         1  ...   0.0   0.0   0.0   0.0   \n",
       "131660  0.175325                 2.0         1  ...   0.0   0.0   0.0   0.0   \n",
       "131661  0.214286                 1.0         1  ...   1.0   0.0   0.0   0.0   \n",
       "\n",
       "        x3_8  x3_9  x3_10  x3_11  x3_12  x3_13  \n",
       "0        0.0   0.0    0.0    0.0    0.0    0.0  \n",
       "1        0.0   0.0    0.0    0.0    0.0    0.0  \n",
       "2        0.0   0.0    0.0    0.0    0.0    0.0  \n",
       "3        0.0   0.0    0.0    0.0    0.0    0.0  \n",
       "4        0.0   0.0    0.0    0.0    0.0    0.0  \n",
       "...      ...   ...    ...    ...    ...    ...  \n",
       "131657   0.0   0.0    0.0    0.0    0.0    0.0  \n",
       "131658   0.0   0.0    0.0    0.0    0.0    0.0  \n",
       "131659   0.0   0.0    0.0    0.0    0.0    0.0  \n",
       "131660   0.0   0.0    0.0    0.0    0.0    0.0  \n",
       "131661   0.0   0.0    0.0    0.0    0.0    0.0  \n",
       "\n",
       "[131662 rows x 34 columns]>"
      ]
     },
     "execution_count": 40,
     "metadata": {},
     "output_type": "execute_result"
    }
   ],
   "source": [
    "train.head"
   ]
  },
  {
   "cell_type": "code",
   "execution_count": 41,
   "metadata": {},
   "outputs": [
    {
     "name": "stdout",
     "output_type": "stream",
     "text": [
      "(131662, 33) (131662,) (87395, 33)\n"
     ]
    }
   ],
   "source": [
    "X = train.drop('Surge_Pricing_Type',axis=1)\n",
    "y = train.Surge_Pricing_Type\n",
    "X_final = test.drop('Surge_Pricing_Type',axis=1)\n",
    "print(X.shape,y.shape,X_final.shape)"
   ]
  },
  {
   "cell_type": "code",
   "execution_count": 42,
   "metadata": {},
   "outputs": [
    {
     "name": "stdout",
     "output_type": "stream",
     "text": [
      "Integer Encoded [1 1 2 1 2 1 1 1 2 1 1 1 0 1 1 2 0 1 2 0 1 2 2 2 0 1 0 0 2 2 2 0 0 1 0 1 2\n",
      " 1 0 0 1 2 2 2 2 0 1 0 0 2 2 2 0 1 2 1 1 1 0 2 1 2 1 1 2 1 1 1 2 0 2 1 0 2\n",
      " 2 1 2 1 1 1 2 0 1 1 2 1 0 1 1 2 2 1 0 1 2 1 2 0 2]\n",
      "One Hot Encoded [[0. 1. 0.]\n",
      " [0. 1. 0.]\n",
      " [0. 0. 1.]\n",
      " [0. 1. 0.]\n",
      " [0. 0. 1.]\n",
      " [0. 1. 0.]\n",
      " [0. 1. 0.]\n",
      " [0. 1. 0.]\n",
      " [0. 0. 1.]]\n"
     ]
    }
   ],
   "source": [
    "from sklearn.preprocessing import LabelEncoder\n",
    "from sklearn.preprocessing import OneHotEncoder\n",
    "\n",
    "# integer encode\n",
    "label_encoder = LabelEncoder()\n",
    "integer_encoded = label_encoder.fit_transform(y)\n",
    "print(\"Integer Encoded\",integer_encoded[1:100])\n",
    "# binary encode\n",
    "onehot_encoder = OneHotEncoder(sparse=False)\n",
    "onehot_encoded = onehot_encoder.fit_transform(integer_encoded.reshape(-1,1))\n",
    "print(\"One Hot Encoded\",onehot_encoded[1:10])\n",
    "y = onehot_encoded"
   ]
  },
  {
   "cell_type": "code",
   "execution_count": 78,
   "metadata": {},
   "outputs": [
    {
     "name": "stdout",
     "output_type": "stream",
     "text": [
      "(114545, 33) (17117, 33) (114545, 3) (17117, 3) (131662, 3)\n"
     ]
    }
   ],
   "source": [
    "from sklearn.model_selection import train_test_split\n",
    "X_train, X_test, y_train, y_test = train_test_split(X, y, test_size=0.13, random_state=12332)\n",
    "print(X_train.shape,X_test.shape,y_train.shape,y_test.shape,y.shape)"
   ]
  },
  {
   "cell_type": "code",
   "execution_count": 77,
   "metadata": {},
   "outputs": [
    {
     "name": "stdout",
     "output_type": "stream",
     "text": [
      "Train on 131662 samples, validate on 131662 samples\n",
      "Epoch 1/20\n",
      "131662/131662 [==============================] - 13s 102us/step - loss: 0.7811 - accuracy: 0.6697 - val_loss: 0.7640 - val_accuracy: 0.6761\n",
      "Epoch 2/20\n",
      "131662/131662 [==============================] - 13s 97us/step - loss: 0.7635 - accuracy: 0.6783 - val_loss: 0.7584 - val_accuracy: 0.6799\n",
      "Epoch 3/20\n",
      "131662/131662 [==============================] - 13s 99us/step - loss: 0.7605 - accuracy: 0.6788 - val_loss: 0.7567 - val_accuracy: 0.6802\n",
      "Epoch 4/20\n",
      "131662/131662 [==============================] - 13s 99us/step - loss: 0.7587 - accuracy: 0.6787 - val_loss: 0.7549 - val_accuracy: 0.6803\n",
      "Epoch 5/20\n",
      "131662/131662 [==============================] - 13s 100us/step - loss: 0.7571 - accuracy: 0.6798 - val_loss: 0.7527 - val_accuracy: 0.6816\n",
      "Epoch 6/20\n",
      "131662/131662 [==============================] - 13s 100us/step - loss: 0.7552 - accuracy: 0.6805 - val_loss: 0.7505 - val_accuracy: 0.6818\n",
      "Epoch 7/20\n",
      "131662/131662 [==============================] - 13s 101us/step - loss: 0.7530 - accuracy: 0.6812 - val_loss: 0.7491 - val_accuracy: 0.6821\n",
      "Epoch 8/20\n",
      "131662/131662 [==============================] - 13s 99us/step - loss: 0.7509 - accuracy: 0.6818 - val_loss: 0.7476 - val_accuracy: 0.6829\n",
      "Epoch 9/20\n",
      "131662/131662 [==============================] - 13s 98us/step - loss: 0.7500 - accuracy: 0.6828 - val_loss: 0.7521 - val_accuracy: 0.6822\n",
      "Epoch 10/20\n",
      "131662/131662 [==============================] - 13s 101us/step - loss: 0.7487 - accuracy: 0.6828 - val_loss: 0.7570 - val_accuracy: 0.6802\n",
      "Epoch 11/20\n",
      "131662/131662 [==============================] - 13s 100us/step - loss: 0.7482 - accuracy: 0.6833 - val_loss: 0.7433 - val_accuracy: 0.6842\n",
      "Epoch 12/20\n",
      "131662/131662 [==============================] - 13s 100us/step - loss: 0.7475 - accuracy: 0.6825 - val_loss: 0.7452 - val_accuracy: 0.6839\n",
      "Epoch 13/20\n",
      "131662/131662 [==============================] - 13s 98us/step - loss: 0.7464 - accuracy: 0.6838 - val_loss: 0.7467 - val_accuracy: 0.6837\n",
      "Epoch 14/20\n",
      "131662/131662 [==============================] - 13s 97us/step - loss: 0.7460 - accuracy: 0.6839 - val_loss: 0.7426 - val_accuracy: 0.6853\n",
      "Epoch 15/20\n",
      "131662/131662 [==============================] - 13s 99us/step - loss: 0.7454 - accuracy: 0.6835 - val_loss: 0.7425 - val_accuracy: 0.6850\n",
      "Epoch 16/20\n",
      "131662/131662 [==============================] - 13s 97us/step - loss: 0.7448 - accuracy: 0.6841 - val_loss: 0.7440 - val_accuracy: 0.6849\n",
      "Epoch 17/20\n",
      "131662/131662 [==============================] - 13s 98us/step - loss: 0.7447 - accuracy: 0.6847 - val_loss: 0.7456 - val_accuracy: 0.6833\n",
      "Restoring model weights from the end of the best epoch\n",
      "Epoch 00017: early stopping\n",
      "131662/131662 [==============================] - 4s 27us/step\n",
      "\n",
      "accuracy: 68.42%\n"
     ]
    }
   ],
   "source": [
    "from keras.models import Sequential \n",
    "from keras.layers import Dense \n",
    "from keras.layers import Dropout \n",
    "from keras.layers import BatchNormalization\n",
    "\n",
    "\n",
    "input_dim = len(X.columns)\n",
    "\n",
    "model = Sequential()\n",
    "model.add(Dense(32, input_dim = input_dim , activation = 'relu'))\n",
    "#model.add(BatchNormalization())\n",
    "\n",
    "#model.add(Dense(32, activation = 'relu'))\n",
    "#model.add(BatchNormalization())\n",
    "model.add(Dense(16, activation = 'relu'))\n",
    "#model.add(BatchNormalization())\n",
    "model.add(Dense(16, activation = 'relu'))\n",
    "\n",
    "#model.add(Dropout(0.3))\n",
    "#model.add(BatchNormalization())\n",
    "#model.add(Dense(3, activation = 'relu'))\n",
    "model.add(Dense(3, activation = 'softmax'))\n",
    "\n",
    "model.compile(loss = 'categorical_crossentropy' , optimizer = 'Adam' , metrics = ['accuracy'] )\n",
    "\n",
    "# simple early stopping\n",
    "from keras.callbacks import EarlyStopping\n",
    "es = EarlyStopping(monitor='val_loss', min_delta=0.001, patience=6, verbose=1, mode='auto',baseline=None, restore_best_weights=True)\n",
    "\n",
    "\n",
    "history =model.fit(X, y,validation_data=(X, y), epochs = 20, batch_size = 32, callbacks=[es])\n",
    "\n",
    "scores = model.evaluate(X, y)\n",
    "print(\"\\n%s: %.2f%%\" % (model.metrics_names[1], scores[1]*100))"
   ]
  },
  {
   "cell_type": "code",
   "execution_count": 79,
   "metadata": {},
   "outputs": [
    {
     "data": {
      "image/png": "[encoded data removed]",
      "text/plain": [
       "<Figure size 432x288 with 1 Axes>"
      ]
     },
     "metadata": {
      "needs_background": "light"
     },
     "output_type": "display_data"
    }
   ],
   "source": [
    "%matplotlib inline\n",
    "from matplotlib import pyplot\n",
    "pyplot.plot(history.history['loss'], label='train')\n",
    "pyplot.plot(history.history['val_loss'], label='test')\n",
    "pyplot.legend()\n",
    "pyplot.show()"
   ]
  },
  {
   "cell_type": "code",
   "execution_count": 80,
   "metadata": {},
   "outputs": [
    {
     "data": {
      "image/png": "[encoded data removed]",
      "text/plain": [
       "<Figure size 432x288 with 1 Axes>"
      ]
     },
     "metadata": {
      "needs_background": "light"
     },
     "output_type": "display_data"
    }
   ],
   "source": [
    "%matplotlib inline\n",
    "from matplotlib import pyplot\n",
    "pyplot.plot(history.history['accuracy'], label='train')\n",
    "pyplot.plot(history.history['accuracy'], label='test')\n",
    "pyplot.legend()\n",
    "pyplot.show()"
   ]
  },
  {
   "cell_type": "code",
   "execution_count": 81,
   "metadata": {},
   "outputs": [
    {
     "name": "stdout",
     "output_type": "stream",
     "text": [
      "Detailed classification report:\n",
      "              precision    recall  f1-score   support\n",
      "\n",
      "           1       0.67      0.53      0.59      3424\n",
      "           2       0.67      0.80      0.73      7525\n",
      "           3       0.73      0.65      0.69      6168\n",
      "\n",
      "    accuracy                           0.69     17117\n",
      "   macro avg       0.69      0.66      0.67     17117\n",
      "weighted avg       0.69      0.69      0.69     17117\n",
      "\n"
     ]
    }
   ],
   "source": [
    "from sklearn.metrics import classification_report\n",
    "predX = model.predict_classes(X_test)\n",
    "predX = predX + 1\n",
    "print(\"Detailed classification report:\")\n",
    "ytest = onehot_encoder.inverse_transform(y_test)\n",
    "ytest = ytest + 1\n",
    "print(classification_report(ytest, predX))"
   ]
  },
  {
   "cell_type": "code",
   "execution_count": 76,
   "metadata": {},
   "outputs": [],
   "source": [
    "preds = model.predict_classes(X_final)\n",
    "preds = preds + 1\n",
    "df_submit = pd.read_csv('sample_submission.csv')\n",
    "df_submit['Surge_Pricing_Type'] = preds\n",
    "df_submit.to_csv('DeepDL.csv',index=False , header=True)"
   ]
  },
  {
   "cell_type": "code",
   "execution_count": 74,
   "metadata": {},
   "outputs": [
    {
     "name": "stdout",
     "output_type": "stream",
     "text": [
      "Saved model to disk\n"
     ]
    }
   ],
   "source": [
    "# serialize model to JSON\n",
    "model_json = model.to_json()\n",
    "with open(\"dl.json\", \"w\") as json_file:\n",
    "    json_file.write(model_json)\n",
    "# serialize weights to HDF5\n",
    "model.save_weights(\"dl_w.h5\")\n",
    "print(\"Saved model to disk\")"
   ]
  },
  {
   "cell_type": "code",
   "execution_count": null,
   "metadata": {},
   "outputs": [],
   "source": []
  }
 ],
 "metadata": {
  "kernelspec": {
   "display_name": "Python 3",
   "language": "python",
   "name": "python3"
  },
  "language_info": {
   "codemirror_mode": {
    "name": "ipython",
    "version": 3
   },
   "file_extension": ".py",
   "mimetype": "text/x-python",
   "name": "python",
   "nbconvert_exporter": "python",
   "pygments_lexer": "ipython3",
   "version": "3.6.3"
  }
 },
 "nbformat": 4,
 "nbformat_minor": 2
}
