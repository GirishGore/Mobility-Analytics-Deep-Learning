{
 "cells": [
  {
   "cell_type": "code",
   "execution_count": 1,
   "metadata": {},
   "outputs": [
    {
     "name": "stderr",
     "output_type": "stream",
     "text": [
      "Using TensorFlow backend.\n"
     ]
    },
    {
     "name": "stdout",
     "output_type": "stream",
     "text": [
      "Loaded model from disk\n"
     ]
    }
   ],
   "source": [
    "### Here we try to essimilate all the different models and create ensembles out of it\n",
    "# MLP for Pima Indians Dataset Serialize to JSON and HDF5\n",
    "from keras.models import Sequential\n",
    "from keras.layers import Dense\n",
    "from keras.models import model_from_json\n",
    "import pickle\n",
    "# load json and create model\n",
    "json_file = open('models/dl.json', 'r')\n",
    "loaded_model_json = json_file.read()\n",
    "json_file.close()\n",
    "dl_model = model_from_json(loaded_model_json)\n",
    "# load weights into new model\n",
    "dl_model.load_weights(\"models/dl_w.h5\")\n",
    "print(\"Loaded model from disk\")"
   ]
  },
  {
   "cell_type": "code",
   "execution_count": 2,
   "metadata": {},
   "outputs": [],
   "source": [
    "import joblib\n",
    "xgb_model = joblib.load(open('models//xgb.pkl', 'rb'))\n",
    "lgb_model = joblib.load(open('models//gbm.pkl', 'rb'))\n"
   ]
  },
  {
   "cell_type": "code",
   "execution_count": 3,
   "metadata": {},
   "outputs": [
    {
     "name": "stdout",
     "output_type": "stream",
     "text": [
      "(131662, 34) (87395, 34)\n",
      "(131662, 33) (131662,) (87395, 33)\n"
     ]
    }
   ],
   "source": [
    "import pandas as pd\n",
    "import numpy as np\n",
    "\n",
    "from sklearn.model_selection import GridSearchCV\n",
    "from sklearn.model_selection import StratifiedKFold\n",
    "\n",
    "train = pd.read_csv('train_final.csv')\n",
    "test = pd.read_csv('test_final.csv')\n",
    "print(train.shape,test.shape)\n",
    "X = train.drop('Surge_Pricing_Type',axis=1)\n",
    "y = train.Surge_Pricing_Type\n",
    "X_final = test.drop('Surge_Pricing_Type',axis=1)\n",
    "print(X.shape,y.shape,X_final.shape)"
   ]
  },
  {
   "cell_type": "code",
   "execution_count": 7,
   "metadata": {},
   "outputs": [
    {
     "name": "stdout",
     "output_type": "stream",
     "text": [
      "Done Generating Results\n"
     ]
    }
   ],
   "source": [
    "result_xgb = xgb_model.score(X, y)\n",
    "result_gbm = lgb_model.score(X, y)\n",
    "print(\"Done Generating Results\")"
   ]
  },
  {
   "cell_type": "code",
   "execution_count": 8,
   "metadata": {},
   "outputs": [
    {
     "name": "stdout",
     "output_type": "stream",
     "text": [
      "0.12221445823396272 0.7094909693001777\n"
     ]
    }
   ],
   "source": [
    "print(result_gbm,result_xgb)"
   ]
  },
  {
   "cell_type": "code",
   "execution_count": 16,
   "metadata": {},
   "outputs": [
    {
     "data": {
      "text/plain": [
       "0.7094909693001777"
      ]
     },
     "execution_count": 16,
     "metadata": {},
     "output_type": "execute_result"
    }
   ],
   "source": [
    "preds_x = xgb_model.predict(X)\n",
    "from sklearn.metrics import accuracy_score\n",
    "accuracy_score(preds_x,y)"
   ]
  },
  {
   "cell_type": "code",
   "execution_count": 17,
   "metadata": {},
   "outputs": [
    {
     "data": {
      "text/plain": [
       "0.7113366043353435"
      ]
     },
     "execution_count": 17,
     "metadata": {},
     "output_type": "execute_result"
    }
   ],
   "source": [
    "preds_g = lgb_model.predict(X)\n",
    "preds_g = preds_g + 1\n",
    "from sklearn.metrics import accuracy_score\n",
    "accuracy_score(preds_g,y)"
   ]
  },
  {
   "cell_type": "code",
   "execution_count": 18,
   "metadata": {},
   "outputs": [
    {
     "data": {
      "text/plain": [
       "0.6852698576658414"
      ]
     },
     "execution_count": 18,
     "metadata": {},
     "output_type": "execute_result"
    }
   ],
   "source": [
    "preds_d = dl_model.predict_classes(X)\n",
    "preds_d = preds_d + 1\n",
    "from sklearn.metrics import accuracy_score\n",
    "accuracy_score(preds_d,y)"
   ]
  },
  {
   "cell_type": "code",
   "execution_count": 21,
   "metadata": {},
   "outputs": [
    {
     "name": "stdout",
     "output_type": "stream",
     "text": [
      "0.9604213820236667 0.934962251826647 0.9391775911044948\n"
     ]
    }
   ],
   "source": [
    "print(accuracy_score(preds_x,preds_g),accuracy_score(preds_d,preds_g),accuracy_score(preds_x,preds_d))"
   ]
  },
  {
   "cell_type": "code",
   "execution_count": 86,
   "metadata": {},
   "outputs": [
    {
     "name": "stdout",
     "output_type": "stream",
     "text": [
      "Done with prediction\n"
     ]
    }
   ],
   "source": [
    "preds_x = xgb_model.predict(X_final)\n",
    "preds_g = lgb_model.predict(X_final)\n",
    "preds_d = dl_model.predict_classes(X_final)\n",
    "preds_g = preds_g + 1\n",
    "preds_d = preds_d + 1\n",
    "from scipy.stats import mode\n",
    "final_pred = np.array([])\n",
    "for i in range(0,len(X_final)):\n",
    "    final_pred = np.append(final_pred, mode([preds_x[i], preds_g[i], preds_d[i]])[0])\n",
    "\n",
    "print(\"Done with prediction\")"
   ]
  },
  {
   "cell_type": "code",
   "execution_count": 87,
   "metadata": {},
   "outputs": [],
   "source": [
    "df_submit = pd.read_csv('sample_submission.csv')\n",
    "df_submit['Surge_Pricing_Type'] = pd.Series(final_pred)\n",
    "df_submit.to_csv('MaxVote.csv',index=False , header=True)"
   ]
  },
  {
   "cell_type": "code",
   "execution_count": 80,
   "metadata": {},
   "outputs": [
    {
     "name": "stdout",
     "output_type": "stream",
     "text": [
      "Done with probability estimation\n"
     ]
    }
   ],
   "source": [
    "preds_x_probs = xgb_model.predict_proba(X_final)\n",
    "preds_g_probs = lgb_model.predict_proba(X_final)\n",
    "preds_d_probs = dl_model.predict(X_final)\n",
    "print(\"Done with probability estimation\")"
   ]
  },
  {
   "cell_type": "code",
   "execution_count": 83,
   "metadata": {},
   "outputs": [],
   "source": [
    "final_preds_probs = (preds_x_probs + preds_g_probs + preds_d_probs)/3"
   ]
  },
  {
   "cell_type": "code",
   "execution_count": 84,
   "metadata": {},
   "outputs": [
    {
     "name": "stdout",
     "output_type": "stream",
     "text": [
      "Done\n"
     ]
    }
   ],
   "source": [
    "final_preds = []\n",
    "for i in range(0,len(final_preds_probs)):\n",
    "    final_preds = np.append(final_preds, np.argmax(final_preds_probs[i])+1)\n",
    "print(\"Done\")"
   ]
  },
  {
   "cell_type": "code",
   "execution_count": 85,
   "metadata": {},
   "outputs": [],
   "source": [
    "df_submit = pd.read_csv('sample_submission.csv')\n",
    "df_submit['Surge_Pricing_Type'] = pd.Series(final_preds)\n",
    "#df_submit = pd.concat([df_submit,pd.DataFrame(final_preds_probs)], axis=1)\n",
    "df_submit.to_csv('AverageEnsemble.csv',index=False , header=True)"
   ]
  },
  {
   "cell_type": "code",
   "execution_count": 88,
   "metadata": {},
   "outputs": [
    {
     "ename": "NameError",
     "evalue": "name 'LogisticRegression' is not defined",
     "output_type": "error",
     "traceback": [
      "\u001b[1;31m---------------------------------------------------------------------------\u001b[0m",
      "\u001b[1;31mNameError\u001b[0m                                 Traceback (most recent call last)",
      "\u001b[1;32m<ipython-input-88-c518cd0e33d8>\u001b[0m in \u001b[0;36m<module>\u001b[1;34m\u001b[0m\n\u001b[0;32m      7\u001b[0m \u001b[1;33m\u001b[0m\u001b[0m\n\u001b[0;32m      8\u001b[0m \u001b[0mdf\u001b[0m \u001b[1;33m=\u001b[0m \u001b[0mpd\u001b[0m\u001b[1;33m.\u001b[0m\u001b[0mconcat\u001b[0m\u001b[1;33m(\u001b[0m\u001b[1;33m[\u001b[0m\u001b[0mpd\u001b[0m\u001b[1;33m.\u001b[0m\u001b[0mDataFrame\u001b[0m\u001b[1;33m(\u001b[0m\u001b[0mpreds_x_probs\u001b[0m\u001b[1;33m)\u001b[0m\u001b[1;33m,\u001b[0m \u001b[0mpd\u001b[0m\u001b[1;33m.\u001b[0m\u001b[0mDataFrame\u001b[0m\u001b[1;33m(\u001b[0m\u001b[0mpreds_g_probs\u001b[0m\u001b[1;33m)\u001b[0m \u001b[1;33m,\u001b[0m \u001b[0mpd\u001b[0m\u001b[1;33m.\u001b[0m\u001b[0mDataFrame\u001b[0m\u001b[1;33m(\u001b[0m\u001b[0mpreds_d_probs\u001b[0m\u001b[1;33m)\u001b[0m\u001b[1;33m]\u001b[0m\u001b[1;33m,\u001b[0m \u001b[0maxis\u001b[0m\u001b[1;33m=\u001b[0m\u001b[1;36m1\u001b[0m\u001b[1;33m)\u001b[0m\u001b[1;33m\u001b[0m\u001b[0m\n\u001b[1;32m----> 9\u001b[1;33m \u001b[0mmodel_lr\u001b[0m \u001b[1;33m=\u001b[0m \u001b[0mLogisticRegression\u001b[0m\u001b[1;33m(\u001b[0m\u001b[0mrandom_state\u001b[0m\u001b[1;33m=\u001b[0m\u001b[1;36m1\u001b[0m\u001b[1;33m)\u001b[0m\u001b[1;33m\u001b[0m\u001b[0m\n\u001b[0m\u001b[0;32m     10\u001b[0m \u001b[0mmodel_lr\u001b[0m\u001b[1;33m.\u001b[0m\u001b[0mfit\u001b[0m\u001b[1;33m(\u001b[0m\u001b[0mdf\u001b[0m\u001b[1;33m,\u001b[0m\u001b[0my\u001b[0m\u001b[1;33m)\u001b[0m\u001b[1;33m\u001b[0m\u001b[0m\n\u001b[0;32m     11\u001b[0m \u001b[0mprint\u001b[0m\u001b[1;33m(\u001b[0m\u001b[1;34m\"Done with simple stacking\"\u001b[0m\u001b[1;33m)\u001b[0m\u001b[1;33m\u001b[0m\u001b[0m\n",
      "\u001b[1;31mNameError\u001b[0m: name 'LogisticRegression' is not defined"
     ]
    }
   ],
   "source": [
    "################ Stacking a simple example ########################\n",
    "preds_x_probs = xgb_model.predict_proba(X)\n",
    "preds_g_probs = lgb_model.predict_proba(X)\n",
    "preds_d_probs = dl_model.predict(X)\n",
    "final_preds_probs = (preds_x_probs + preds_g_probs + preds_d_probs)/3\n",
    "\n",
    "\n",
    "df = pd.concat([pd.DataFrame(preds_x_probs), pd.DataFrame(preds_g_probs) , pd.DataFrame(preds_d_probs)], axis=1)\n"
   ]
  },
  {
   "cell_type": "code",
   "execution_count": 91,
   "metadata": {},
   "outputs": [
    {
     "name": "stdout",
     "output_type": "stream",
     "text": [
      "Done with simple stacking\n"
     ]
    },
    {
     "name": "stderr",
     "output_type": "stream",
     "text": [
      "c:\\program files\\python36\\lib\\site-packages\\sklearn\\linear_model\\_logistic.py:939: ConvergenceWarning: lbfgs failed to converge (status=1):\n",
      "STOP: TOTAL NO. of ITERATIONS REACHED LIMIT.\n",
      "\n",
      "Increase the number of iterations (max_iter) or scale the data as shown in:\n",
      "    https://scikit-learn.org/stable/modules/preprocessing.html.\n",
      "Please also refer to the documentation for alternative solver options:\n",
      "    https://scikit-learn.org/stable/modules/linear_model.html#logistic-regression\n",
      "  extra_warning_msg=_LOGISTIC_SOLVER_CONVERGENCE_MSG)\n"
     ]
    }
   ],
   "source": [
    "from sklearn.linear_model import LogisticRegression\n",
    "model_lr = LogisticRegression(random_state=1213,solver = 'lbfgs')\n",
    "model_lr.fit(df,y)\n",
    "print(\"Done with simple stacking\")"
   ]
  },
  {
   "cell_type": "code",
   "execution_count": 90,
   "metadata": {},
   "outputs": [
    {
     "name": "stdout",
     "output_type": "stream",
     "text": [
      "Done with stacking output\n"
     ]
    }
   ],
   "source": [
    "preds_x_probs = xgb_model.predict_proba(X_final)\n",
    "preds_g_probs = lgb_model.predict_proba(X_final)\n",
    "preds_d_probs = dl_model.predict(X_final)\n",
    "final_preds_probs = (preds_x_probs + preds_g_probs + preds_d_probs)/3\n",
    "test = pd.concat([pd.DataFrame(preds_x_probs), pd.DataFrame(preds_g_probs) , pd.DataFrame(preds_d_probs)], axis=1)\n",
    "preds = model_lr.predict(test)\n",
    "print(\"Done with stacking output\")"
   ]
  },
  {
   "cell_type": "code",
   "execution_count": 93,
   "metadata": {},
   "outputs": [],
   "source": [
    "df_submit = pd.read_csv('sample_submission.csv')\n",
    "df_submit['Surge_Pricing_Type'] = preds\n",
    "df_submit.to_csv('Stacking.csv',index=False , header=True)"
   ]
  },
  {
   "cell_type": "code",
   "execution_count": null,
   "metadata": {},
   "outputs": [],
   "source": []
  }
 ],
 "metadata": {
  "kernelspec": {
   "display_name": "Python 3",
   "language": "python",
   "name": "python3"
  },
  "language_info": {
   "codemirror_mode": {
    "name": "ipython",
    "version": 3
   },
   "file_extension": ".py",
   "mimetype": "text/x-python",
   "name": "python",
   "nbconvert_exporter": "python",
   "pygments_lexer": "ipython3",
   "version": "3.6.3"
  }
 },
 "nbformat": 4,
 "nbformat_minor": 2
}
